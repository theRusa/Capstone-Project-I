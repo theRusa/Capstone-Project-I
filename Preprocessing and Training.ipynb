{
 "cells": [
  {
   "cell_type": "markdown",
   "id": "1c24bbd6",
   "metadata": {},
   "source": [
    "## Capstone Two: Preprocessing and Training Data Development"
   ]
  },
  {
   "cell_type": "code",
   "execution_count": 1,
   "id": "ef72e0c6",
   "metadata": {},
   "outputs": [],
   "source": [
    "import pandas as pd\n",
    "import numpy as np\n",
    "import os\n",
    "import matplotlib.pyplot as plt\n",
    "import seaborn as sns\n",
    "from sklearn.preprocessing import StandardScaler\n",
    "from sklearn.model_selection import train_test_split, GridSearchCV\n",
    "from pandas import get_dummies\n",
    "from sklearn.ensemble import RandomForestClassifier\n",
    "from sklearn.linear_model import LogisticRegression\n",
    "from sklearn import __version__ as sklearn_version\n",
    "from sklearn.decomposition import PCA\n",
    "from sklearn.preprocessing import scale\n",
    "from sklearn.model_selection import train_test_split, cross_validate, GridSearchCV, learning_curve\n",
    "from sklearn.preprocessing import StandardScaler, MinMaxScaler\n",
    "from sklearn.dummy import DummyRegressor\n",
    "from sklearn.linear_model import LinearRegression\n",
    "from sklearn.ensemble import RandomForestRegressor\n",
    "from sklearn.metrics import r2_score, mean_squared_error, mean_absolute_error\n",
    "from sklearn.pipeline import make_pipeline\n",
    "from sklearn.impute import SimpleImputer\n",
    "from sklearn.feature_selection import SelectKBest, f_regression\n",
    "import datetime\n",
    "import warnings\n",
    "warnings.filterwarnings(\"ignore\")\n"
   ]
  },
  {
   "cell_type": "code",
   "execution_count": 2,
   "id": "d93b335a",
   "metadata": {},
   "outputs": [],
   "source": [
    "clean_df = pd.read_csv('Clean_df.csv')"
   ]
  },
  {
   "cell_type": "code",
   "execution_count": 3,
   "id": "415b1aa6",
   "metadata": {},
   "outputs": [
    {
     "data": {
      "text/html": [
       "<div>\n",
       "<style scoped>\n",
       "    .dataframe tbody tr th:only-of-type {\n",
       "        vertical-align: middle;\n",
       "    }\n",
       "\n",
       "    .dataframe tbody tr th {\n",
       "        vertical-align: top;\n",
       "    }\n",
       "\n",
       "    .dataframe thead th {\n",
       "        text-align: right;\n",
       "    }\n",
       "</style>\n",
       "<table border=\"1\" class=\"dataframe\">\n",
       "  <thead>\n",
       "    <tr style=\"text-align: right;\">\n",
       "      <th></th>\n",
       "      <th>age</th>\n",
       "      <th>age group</th>\n",
       "      <th>eligible</th>\n",
       "      <th>job</th>\n",
       "      <th>salary</th>\n",
       "      <th>marital</th>\n",
       "      <th>education</th>\n",
       "      <th>targeted</th>\n",
       "      <th>default</th>\n",
       "      <th>balance</th>\n",
       "      <th>...</th>\n",
       "      <th>contact</th>\n",
       "      <th>day</th>\n",
       "      <th>month</th>\n",
       "      <th>duration</th>\n",
       "      <th>campaign</th>\n",
       "      <th>pdays</th>\n",
       "      <th>previous</th>\n",
       "      <th>poutcome</th>\n",
       "      <th>y</th>\n",
       "      <th>response</th>\n",
       "    </tr>\n",
       "  </thead>\n",
       "  <tbody>\n",
       "    <tr>\n",
       "      <th>0</th>\n",
       "      <td>58</td>\n",
       "      <td>5</td>\n",
       "      <td>Y</td>\n",
       "      <td>management</td>\n",
       "      <td>100000</td>\n",
       "      <td>married</td>\n",
       "      <td>tertiary</td>\n",
       "      <td>yes</td>\n",
       "      <td>no</td>\n",
       "      <td>2143</td>\n",
       "      <td>...</td>\n",
       "      <td>unknown</td>\n",
       "      <td>5</td>\n",
       "      <td>may</td>\n",
       "      <td>261</td>\n",
       "      <td>1</td>\n",
       "      <td>-1</td>\n",
       "      <td>0</td>\n",
       "      <td>unknown</td>\n",
       "      <td>no</td>\n",
       "      <td>0</td>\n",
       "    </tr>\n",
       "    <tr>\n",
       "      <th>1</th>\n",
       "      <td>44</td>\n",
       "      <td>4</td>\n",
       "      <td>Y</td>\n",
       "      <td>technician</td>\n",
       "      <td>60000</td>\n",
       "      <td>single</td>\n",
       "      <td>secondary</td>\n",
       "      <td>yes</td>\n",
       "      <td>no</td>\n",
       "      <td>29</td>\n",
       "      <td>...</td>\n",
       "      <td>unknown</td>\n",
       "      <td>5</td>\n",
       "      <td>may</td>\n",
       "      <td>151</td>\n",
       "      <td>1</td>\n",
       "      <td>-1</td>\n",
       "      <td>0</td>\n",
       "      <td>unknown</td>\n",
       "      <td>no</td>\n",
       "      <td>0</td>\n",
       "    </tr>\n",
       "    <tr>\n",
       "      <th>2</th>\n",
       "      <td>33</td>\n",
       "      <td>3</td>\n",
       "      <td>Y</td>\n",
       "      <td>entrepreneur</td>\n",
       "      <td>120000</td>\n",
       "      <td>married</td>\n",
       "      <td>secondary</td>\n",
       "      <td>yes</td>\n",
       "      <td>no</td>\n",
       "      <td>2</td>\n",
       "      <td>...</td>\n",
       "      <td>unknown</td>\n",
       "      <td>5</td>\n",
       "      <td>may</td>\n",
       "      <td>76</td>\n",
       "      <td>1</td>\n",
       "      <td>-1</td>\n",
       "      <td>0</td>\n",
       "      <td>unknown</td>\n",
       "      <td>no</td>\n",
       "      <td>0</td>\n",
       "    </tr>\n",
       "    <tr>\n",
       "      <th>3</th>\n",
       "      <td>47</td>\n",
       "      <td>4</td>\n",
       "      <td>Y</td>\n",
       "      <td>blue-collar</td>\n",
       "      <td>20000</td>\n",
       "      <td>married</td>\n",
       "      <td>unknown</td>\n",
       "      <td>no</td>\n",
       "      <td>no</td>\n",
       "      <td>1506</td>\n",
       "      <td>...</td>\n",
       "      <td>unknown</td>\n",
       "      <td>5</td>\n",
       "      <td>may</td>\n",
       "      <td>92</td>\n",
       "      <td>1</td>\n",
       "      <td>-1</td>\n",
       "      <td>0</td>\n",
       "      <td>unknown</td>\n",
       "      <td>no</td>\n",
       "      <td>0</td>\n",
       "    </tr>\n",
       "    <tr>\n",
       "      <th>4</th>\n",
       "      <td>33</td>\n",
       "      <td>3</td>\n",
       "      <td>Y</td>\n",
       "      <td>unknown</td>\n",
       "      <td>0</td>\n",
       "      <td>single</td>\n",
       "      <td>unknown</td>\n",
       "      <td>no</td>\n",
       "      <td>no</td>\n",
       "      <td>1</td>\n",
       "      <td>...</td>\n",
       "      <td>unknown</td>\n",
       "      <td>5</td>\n",
       "      <td>may</td>\n",
       "      <td>198</td>\n",
       "      <td>1</td>\n",
       "      <td>-1</td>\n",
       "      <td>0</td>\n",
       "      <td>unknown</td>\n",
       "      <td>no</td>\n",
       "      <td>0</td>\n",
       "    </tr>\n",
       "  </tbody>\n",
       "</table>\n",
       "<p>5 rows × 22 columns</p>\n",
       "</div>"
      ],
      "text/plain": [
       "   age  age group eligible           job  salary  marital  education targeted  \\\n",
       "0   58          5        Y    management  100000  married   tertiary      yes   \n",
       "1   44          4        Y    technician   60000   single  secondary      yes   \n",
       "2   33          3        Y  entrepreneur  120000  married  secondary      yes   \n",
       "3   47          4        Y   blue-collar   20000  married    unknown       no   \n",
       "4   33          3        Y       unknown       0   single    unknown       no   \n",
       "\n",
       "  default  balance  ...  contact day month  duration campaign  pdays  \\\n",
       "0      no     2143  ...  unknown   5   may       261        1     -1   \n",
       "1      no       29  ...  unknown   5   may       151        1     -1   \n",
       "2      no        2  ...  unknown   5   may        76        1     -1   \n",
       "3      no     1506  ...  unknown   5   may        92        1     -1   \n",
       "4      no        1  ...  unknown   5   may       198        1     -1   \n",
       "\n",
       "   previous  poutcome   y response  \n",
       "0         0   unknown  no        0  \n",
       "1         0   unknown  no        0  \n",
       "2         0   unknown  no        0  \n",
       "3         0   unknown  no        0  \n",
       "4         0   unknown  no        0  \n",
       "\n",
       "[5 rows x 22 columns]"
      ]
     },
     "execution_count": 3,
     "metadata": {},
     "output_type": "execute_result"
    }
   ],
   "source": [
    "clean_df.head()"
   ]
  },
  {
   "cell_type": "markdown",
   "id": "9f07aefc-4a59-4886-85d0-97f4d4de01b2",
   "metadata": {},
   "source": [
    "As the data information said it will be better to drop the duration column since duration is highly correlated in whether a potential client will buy a term deposit. Also, duration is obtained after the call is made to the potential client so if the target client has never received calls this feature is not that useful. The reason why duration is highly correlated with opening a term deposit is because the more the bank talks to a target client the higher the probability the target client will open a term deposit since a higher duration means a higher interest (commitment) from the potential client."
   ]
  },
  {
   "cell_type": "code",
   "execution_count": 4,
   "id": "9879e4f9-cfc9-4919-a5d8-2d93be35c8ce",
   "metadata": {},
   "outputs": [],
   "source": [
    "clean_df.drop(columns='duration', inplace=True)"
   ]
  },
  {
   "cell_type": "markdown",
   "id": "9beed028-41ff-4ede-a874-a5204d30aabd",
   "metadata": {},
   "source": [
    "Notice that 'pdays' contains negative (-1) value, that needs to be investigated for removal."
   ]
  },
  {
   "cell_type": "code",
   "execution_count": 5,
   "id": "986fa5fd",
   "metadata": {},
   "outputs": [
    {
     "data": {
      "text/plain": [
       "36954"
      ]
     },
     "execution_count": 5,
     "metadata": {},
     "output_type": "execute_result"
    }
   ],
   "source": [
    "k=-1\n",
    "count = len([i for i in clean_df['pdays'] if i == k])\n",
    "count"
   ]
  },
  {
   "cell_type": "markdown",
   "id": "24f967aa",
   "metadata": {},
   "source": [
    "Delete pdays as this column has mostly  -1 value."
   ]
  },
  {
   "cell_type": "code",
   "execution_count": 6,
   "id": "4f856fda",
   "metadata": {},
   "outputs": [],
   "source": [
    "clean_df.drop(columns='pdays', inplace=True)"
   ]
  },
  {
   "cell_type": "markdown",
   "id": "2464ea4a",
   "metadata": {},
   "source": [
    "Also delete 'age' column as not necessary when we have 'age group' clusters.\n",
    "Additionally, feature 'response' is a duplicate of 'y' feature, so needs to be taken out."
   ]
  },
  {
   "cell_type": "code",
   "execution_count": 7,
   "id": "b996c7e9",
   "metadata": {},
   "outputs": [],
   "source": [
    "clean_df.drop(columns=['age','response'], inplace=True)\n"
   ]
  },
  {
   "cell_type": "code",
   "execution_count": 8,
   "id": "8f678a67-4299-4c9e-86cd-6751c26032be",
   "metadata": {},
   "outputs": [],
   "source": [
    "#Replacing all 'yes' and 'no' to binary 1, 0\n",
    "\n",
    "clean_df['eligible'].replace(('Y', 'N'), (1,0), inplace=True)\n",
    "clean_df.replace(('yes', 'no'), (1,0), inplace=True)\n"
   ]
  },
  {
   "cell_type": "code",
   "execution_count": 9,
   "id": "0ace684c-0820-4557-9699-dc9768fd18c0",
   "metadata": {},
   "outputs": [
    {
     "data": {
      "text/html": [
       "<div>\n",
       "<style scoped>\n",
       "    .dataframe tbody tr th:only-of-type {\n",
       "        vertical-align: middle;\n",
       "    }\n",
       "\n",
       "    .dataframe tbody tr th {\n",
       "        vertical-align: top;\n",
       "    }\n",
       "\n",
       "    .dataframe thead th {\n",
       "        text-align: right;\n",
       "    }\n",
       "</style>\n",
       "<table border=\"1\" class=\"dataframe\">\n",
       "  <thead>\n",
       "    <tr style=\"text-align: right;\">\n",
       "      <th></th>\n",
       "      <th>age group</th>\n",
       "      <th>eligible</th>\n",
       "      <th>job</th>\n",
       "      <th>salary</th>\n",
       "      <th>marital</th>\n",
       "      <th>education</th>\n",
       "      <th>targeted</th>\n",
       "      <th>default</th>\n",
       "      <th>balance</th>\n",
       "      <th>housing</th>\n",
       "      <th>loan</th>\n",
       "      <th>contact</th>\n",
       "      <th>day</th>\n",
       "      <th>month</th>\n",
       "      <th>campaign</th>\n",
       "      <th>previous</th>\n",
       "      <th>poutcome</th>\n",
       "      <th>y</th>\n",
       "    </tr>\n",
       "  </thead>\n",
       "  <tbody>\n",
       "    <tr>\n",
       "      <th>0</th>\n",
       "      <td>5</td>\n",
       "      <td>1</td>\n",
       "      <td>management</td>\n",
       "      <td>100000</td>\n",
       "      <td>married</td>\n",
       "      <td>tertiary</td>\n",
       "      <td>1</td>\n",
       "      <td>0</td>\n",
       "      <td>2143</td>\n",
       "      <td>1</td>\n",
       "      <td>0</td>\n",
       "      <td>unknown</td>\n",
       "      <td>5</td>\n",
       "      <td>may</td>\n",
       "      <td>1</td>\n",
       "      <td>0</td>\n",
       "      <td>unknown</td>\n",
       "      <td>0</td>\n",
       "    </tr>\n",
       "    <tr>\n",
       "      <th>1</th>\n",
       "      <td>4</td>\n",
       "      <td>1</td>\n",
       "      <td>technician</td>\n",
       "      <td>60000</td>\n",
       "      <td>single</td>\n",
       "      <td>secondary</td>\n",
       "      <td>1</td>\n",
       "      <td>0</td>\n",
       "      <td>29</td>\n",
       "      <td>1</td>\n",
       "      <td>0</td>\n",
       "      <td>unknown</td>\n",
       "      <td>5</td>\n",
       "      <td>may</td>\n",
       "      <td>1</td>\n",
       "      <td>0</td>\n",
       "      <td>unknown</td>\n",
       "      <td>0</td>\n",
       "    </tr>\n",
       "    <tr>\n",
       "      <th>2</th>\n",
       "      <td>3</td>\n",
       "      <td>1</td>\n",
       "      <td>entrepreneur</td>\n",
       "      <td>120000</td>\n",
       "      <td>married</td>\n",
       "      <td>secondary</td>\n",
       "      <td>1</td>\n",
       "      <td>0</td>\n",
       "      <td>2</td>\n",
       "      <td>1</td>\n",
       "      <td>1</td>\n",
       "      <td>unknown</td>\n",
       "      <td>5</td>\n",
       "      <td>may</td>\n",
       "      <td>1</td>\n",
       "      <td>0</td>\n",
       "      <td>unknown</td>\n",
       "      <td>0</td>\n",
       "    </tr>\n",
       "    <tr>\n",
       "      <th>3</th>\n",
       "      <td>4</td>\n",
       "      <td>1</td>\n",
       "      <td>blue-collar</td>\n",
       "      <td>20000</td>\n",
       "      <td>married</td>\n",
       "      <td>unknown</td>\n",
       "      <td>0</td>\n",
       "      <td>0</td>\n",
       "      <td>1506</td>\n",
       "      <td>1</td>\n",
       "      <td>0</td>\n",
       "      <td>unknown</td>\n",
       "      <td>5</td>\n",
       "      <td>may</td>\n",
       "      <td>1</td>\n",
       "      <td>0</td>\n",
       "      <td>unknown</td>\n",
       "      <td>0</td>\n",
       "    </tr>\n",
       "    <tr>\n",
       "      <th>4</th>\n",
       "      <td>3</td>\n",
       "      <td>1</td>\n",
       "      <td>unknown</td>\n",
       "      <td>0</td>\n",
       "      <td>single</td>\n",
       "      <td>unknown</td>\n",
       "      <td>0</td>\n",
       "      <td>0</td>\n",
       "      <td>1</td>\n",
       "      <td>0</td>\n",
       "      <td>0</td>\n",
       "      <td>unknown</td>\n",
       "      <td>5</td>\n",
       "      <td>may</td>\n",
       "      <td>1</td>\n",
       "      <td>0</td>\n",
       "      <td>unknown</td>\n",
       "      <td>0</td>\n",
       "    </tr>\n",
       "    <tr>\n",
       "      <th>...</th>\n",
       "      <td>...</td>\n",
       "      <td>...</td>\n",
       "      <td>...</td>\n",
       "      <td>...</td>\n",
       "      <td>...</td>\n",
       "      <td>...</td>\n",
       "      <td>...</td>\n",
       "      <td>...</td>\n",
       "      <td>...</td>\n",
       "      <td>...</td>\n",
       "      <td>...</td>\n",
       "      <td>...</td>\n",
       "      <td>...</td>\n",
       "      <td>...</td>\n",
       "      <td>...</td>\n",
       "      <td>...</td>\n",
       "      <td>...</td>\n",
       "      <td>...</td>\n",
       "    </tr>\n",
       "    <tr>\n",
       "      <th>45206</th>\n",
       "      <td>5</td>\n",
       "      <td>1</td>\n",
       "      <td>technician</td>\n",
       "      <td>60000</td>\n",
       "      <td>married</td>\n",
       "      <td>tertiary</td>\n",
       "      <td>1</td>\n",
       "      <td>0</td>\n",
       "      <td>825</td>\n",
       "      <td>0</td>\n",
       "      <td>0</td>\n",
       "      <td>cellular</td>\n",
       "      <td>17</td>\n",
       "      <td>nov</td>\n",
       "      <td>3</td>\n",
       "      <td>0</td>\n",
       "      <td>unknown</td>\n",
       "      <td>1</td>\n",
       "    </tr>\n",
       "    <tr>\n",
       "      <th>45207</th>\n",
       "      <td>7</td>\n",
       "      <td>0</td>\n",
       "      <td>retired</td>\n",
       "      <td>55000</td>\n",
       "      <td>divorced</td>\n",
       "      <td>primary</td>\n",
       "      <td>1</td>\n",
       "      <td>0</td>\n",
       "      <td>1729</td>\n",
       "      <td>0</td>\n",
       "      <td>0</td>\n",
       "      <td>cellular</td>\n",
       "      <td>17</td>\n",
       "      <td>nov</td>\n",
       "      <td>2</td>\n",
       "      <td>0</td>\n",
       "      <td>unknown</td>\n",
       "      <td>1</td>\n",
       "    </tr>\n",
       "    <tr>\n",
       "      <th>45208</th>\n",
       "      <td>7</td>\n",
       "      <td>0</td>\n",
       "      <td>retired</td>\n",
       "      <td>55000</td>\n",
       "      <td>married</td>\n",
       "      <td>secondary</td>\n",
       "      <td>1</td>\n",
       "      <td>0</td>\n",
       "      <td>5715</td>\n",
       "      <td>0</td>\n",
       "      <td>0</td>\n",
       "      <td>cellular</td>\n",
       "      <td>17</td>\n",
       "      <td>nov</td>\n",
       "      <td>5</td>\n",
       "      <td>3</td>\n",
       "      <td>success</td>\n",
       "      <td>1</td>\n",
       "    </tr>\n",
       "    <tr>\n",
       "      <th>45209</th>\n",
       "      <td>5</td>\n",
       "      <td>1</td>\n",
       "      <td>blue-collar</td>\n",
       "      <td>20000</td>\n",
       "      <td>married</td>\n",
       "      <td>secondary</td>\n",
       "      <td>1</td>\n",
       "      <td>0</td>\n",
       "      <td>668</td>\n",
       "      <td>0</td>\n",
       "      <td>0</td>\n",
       "      <td>telephone</td>\n",
       "      <td>17</td>\n",
       "      <td>nov</td>\n",
       "      <td>4</td>\n",
       "      <td>0</td>\n",
       "      <td>unknown</td>\n",
       "      <td>0</td>\n",
       "    </tr>\n",
       "    <tr>\n",
       "      <th>45210</th>\n",
       "      <td>3</td>\n",
       "      <td>1</td>\n",
       "      <td>entrepreneur</td>\n",
       "      <td>120000</td>\n",
       "      <td>married</td>\n",
       "      <td>secondary</td>\n",
       "      <td>1</td>\n",
       "      <td>0</td>\n",
       "      <td>2971</td>\n",
       "      <td>0</td>\n",
       "      <td>0</td>\n",
       "      <td>cellular</td>\n",
       "      <td>17</td>\n",
       "      <td>nov</td>\n",
       "      <td>2</td>\n",
       "      <td>11</td>\n",
       "      <td>other</td>\n",
       "      <td>0</td>\n",
       "    </tr>\n",
       "  </tbody>\n",
       "</table>\n",
       "<p>45211 rows × 18 columns</p>\n",
       "</div>"
      ],
      "text/plain": [
       "       age group  eligible           job  salary   marital  education  \\\n",
       "0              5         1    management  100000   married   tertiary   \n",
       "1              4         1    technician   60000    single  secondary   \n",
       "2              3         1  entrepreneur  120000   married  secondary   \n",
       "3              4         1   blue-collar   20000   married    unknown   \n",
       "4              3         1       unknown       0    single    unknown   \n",
       "...          ...       ...           ...     ...       ...        ...   \n",
       "45206          5         1    technician   60000   married   tertiary   \n",
       "45207          7         0       retired   55000  divorced    primary   \n",
       "45208          7         0       retired   55000   married  secondary   \n",
       "45209          5         1   blue-collar   20000   married  secondary   \n",
       "45210          3         1  entrepreneur  120000   married  secondary   \n",
       "\n",
       "       targeted  default  balance  housing  loan    contact  day month  \\\n",
       "0             1        0     2143        1     0    unknown    5   may   \n",
       "1             1        0       29        1     0    unknown    5   may   \n",
       "2             1        0        2        1     1    unknown    5   may   \n",
       "3             0        0     1506        1     0    unknown    5   may   \n",
       "4             0        0        1        0     0    unknown    5   may   \n",
       "...         ...      ...      ...      ...   ...        ...  ...   ...   \n",
       "45206         1        0      825        0     0   cellular   17   nov   \n",
       "45207         1        0     1729        0     0   cellular   17   nov   \n",
       "45208         1        0     5715        0     0   cellular   17   nov   \n",
       "45209         1        0      668        0     0  telephone   17   nov   \n",
       "45210         1        0     2971        0     0   cellular   17   nov   \n",
       "\n",
       "       campaign  previous poutcome  y  \n",
       "0             1         0  unknown  0  \n",
       "1             1         0  unknown  0  \n",
       "2             1         0  unknown  0  \n",
       "3             1         0  unknown  0  \n",
       "4             1         0  unknown  0  \n",
       "...         ...       ...      ... ..  \n",
       "45206         3         0  unknown  1  \n",
       "45207         2         0  unknown  1  \n",
       "45208         5         3  success  1  \n",
       "45209         4         0  unknown  0  \n",
       "45210         2        11    other  0  \n",
       "\n",
       "[45211 rows x 18 columns]"
      ]
     },
     "execution_count": 9,
     "metadata": {},
     "output_type": "execute_result"
    }
   ],
   "source": [
    "clean_df"
   ]
  },
  {
   "cell_type": "code",
   "execution_count": 10,
   "id": "3d565aaa",
   "metadata": {},
   "outputs": [
    {
     "data": {
      "text/html": [
       "<div>\n",
       "<style scoped>\n",
       "    .dataframe tbody tr th:only-of-type {\n",
       "        vertical-align: middle;\n",
       "    }\n",
       "\n",
       "    .dataframe tbody tr th {\n",
       "        vertical-align: top;\n",
       "    }\n",
       "\n",
       "    .dataframe thead th {\n",
       "        text-align: right;\n",
       "    }\n",
       "</style>\n",
       "<table border=\"1\" class=\"dataframe\">\n",
       "  <thead>\n",
       "    <tr style=\"text-align: right;\">\n",
       "      <th></th>\n",
       "      <th>age group</th>\n",
       "      <th>eligible</th>\n",
       "      <th>salary</th>\n",
       "      <th>targeted</th>\n",
       "      <th>default</th>\n",
       "      <th>balance</th>\n",
       "      <th>housing</th>\n",
       "      <th>loan</th>\n",
       "      <th>day</th>\n",
       "      <th>campaign</th>\n",
       "      <th>previous</th>\n",
       "      <th>y</th>\n",
       "    </tr>\n",
       "  </thead>\n",
       "  <tbody>\n",
       "    <tr>\n",
       "      <th>count</th>\n",
       "      <td>45211.000000</td>\n",
       "      <td>45211.000000</td>\n",
       "      <td>45211.000000</td>\n",
       "      <td>45211.000000</td>\n",
       "      <td>45211.000000</td>\n",
       "      <td>45211.000000</td>\n",
       "      <td>45211.000000</td>\n",
       "      <td>45211.000000</td>\n",
       "      <td>45211.000000</td>\n",
       "      <td>45211.000000</td>\n",
       "      <td>45211.000000</td>\n",
       "      <td>45211.000000</td>\n",
       "    </tr>\n",
       "    <tr>\n",
       "      <th>mean</th>\n",
       "      <td>3.645861</td>\n",
       "      <td>0.959501</td>\n",
       "      <td>57006.171065</td>\n",
       "      <td>0.820398</td>\n",
       "      <td>0.018027</td>\n",
       "      <td>1362.272058</td>\n",
       "      <td>0.555838</td>\n",
       "      <td>0.160226</td>\n",
       "      <td>15.806419</td>\n",
       "      <td>2.763841</td>\n",
       "      <td>0.580323</td>\n",
       "      <td>0.116985</td>\n",
       "    </tr>\n",
       "    <tr>\n",
       "      <th>std</th>\n",
       "      <td>1.083271</td>\n",
       "      <td>0.197129</td>\n",
       "      <td>32085.718415</td>\n",
       "      <td>0.383860</td>\n",
       "      <td>0.133049</td>\n",
       "      <td>3044.765829</td>\n",
       "      <td>0.496878</td>\n",
       "      <td>0.366820</td>\n",
       "      <td>8.322476</td>\n",
       "      <td>3.098021</td>\n",
       "      <td>2.303441</td>\n",
       "      <td>0.321406</td>\n",
       "    </tr>\n",
       "    <tr>\n",
       "      <th>min</th>\n",
       "      <td>1.000000</td>\n",
       "      <td>0.000000</td>\n",
       "      <td>0.000000</td>\n",
       "      <td>0.000000</td>\n",
       "      <td>0.000000</td>\n",
       "      <td>-8019.000000</td>\n",
       "      <td>0.000000</td>\n",
       "      <td>0.000000</td>\n",
       "      <td>1.000000</td>\n",
       "      <td>1.000000</td>\n",
       "      <td>0.000000</td>\n",
       "      <td>0.000000</td>\n",
       "    </tr>\n",
       "    <tr>\n",
       "      <th>25%</th>\n",
       "      <td>3.000000</td>\n",
       "      <td>1.000000</td>\n",
       "      <td>20000.000000</td>\n",
       "      <td>1.000000</td>\n",
       "      <td>0.000000</td>\n",
       "      <td>72.000000</td>\n",
       "      <td>0.000000</td>\n",
       "      <td>0.000000</td>\n",
       "      <td>8.000000</td>\n",
       "      <td>1.000000</td>\n",
       "      <td>0.000000</td>\n",
       "      <td>0.000000</td>\n",
       "    </tr>\n",
       "    <tr>\n",
       "      <th>50%</th>\n",
       "      <td>3.000000</td>\n",
       "      <td>1.000000</td>\n",
       "      <td>60000.000000</td>\n",
       "      <td>1.000000</td>\n",
       "      <td>0.000000</td>\n",
       "      <td>448.000000</td>\n",
       "      <td>1.000000</td>\n",
       "      <td>0.000000</td>\n",
       "      <td>16.000000</td>\n",
       "      <td>2.000000</td>\n",
       "      <td>0.000000</td>\n",
       "      <td>0.000000</td>\n",
       "    </tr>\n",
       "    <tr>\n",
       "      <th>75%</th>\n",
       "      <td>4.000000</td>\n",
       "      <td>1.000000</td>\n",
       "      <td>70000.000000</td>\n",
       "      <td>1.000000</td>\n",
       "      <td>0.000000</td>\n",
       "      <td>1428.000000</td>\n",
       "      <td>1.000000</td>\n",
       "      <td>0.000000</td>\n",
       "      <td>21.000000</td>\n",
       "      <td>3.000000</td>\n",
       "      <td>0.000000</td>\n",
       "      <td>0.000000</td>\n",
       "    </tr>\n",
       "    <tr>\n",
       "      <th>max</th>\n",
       "      <td>9.000000</td>\n",
       "      <td>1.000000</td>\n",
       "      <td>120000.000000</td>\n",
       "      <td>1.000000</td>\n",
       "      <td>1.000000</td>\n",
       "      <td>102127.000000</td>\n",
       "      <td>1.000000</td>\n",
       "      <td>1.000000</td>\n",
       "      <td>31.000000</td>\n",
       "      <td>63.000000</td>\n",
       "      <td>275.000000</td>\n",
       "      <td>1.000000</td>\n",
       "    </tr>\n",
       "  </tbody>\n",
       "</table>\n",
       "</div>"
      ],
      "text/plain": [
       "          age group      eligible         salary      targeted       default  \\\n",
       "count  45211.000000  45211.000000   45211.000000  45211.000000  45211.000000   \n",
       "mean       3.645861      0.959501   57006.171065      0.820398      0.018027   \n",
       "std        1.083271      0.197129   32085.718415      0.383860      0.133049   \n",
       "min        1.000000      0.000000       0.000000      0.000000      0.000000   \n",
       "25%        3.000000      1.000000   20000.000000      1.000000      0.000000   \n",
       "50%        3.000000      1.000000   60000.000000      1.000000      0.000000   \n",
       "75%        4.000000      1.000000   70000.000000      1.000000      0.000000   \n",
       "max        9.000000      1.000000  120000.000000      1.000000      1.000000   \n",
       "\n",
       "             balance       housing          loan           day      campaign  \\\n",
       "count   45211.000000  45211.000000  45211.000000  45211.000000  45211.000000   \n",
       "mean     1362.272058      0.555838      0.160226     15.806419      2.763841   \n",
       "std      3044.765829      0.496878      0.366820      8.322476      3.098021   \n",
       "min     -8019.000000      0.000000      0.000000      1.000000      1.000000   \n",
       "25%        72.000000      0.000000      0.000000      8.000000      1.000000   \n",
       "50%       448.000000      1.000000      0.000000     16.000000      2.000000   \n",
       "75%      1428.000000      1.000000      0.000000     21.000000      3.000000   \n",
       "max    102127.000000      1.000000      1.000000     31.000000     63.000000   \n",
       "\n",
       "           previous             y  \n",
       "count  45211.000000  45211.000000  \n",
       "mean       0.580323      0.116985  \n",
       "std        2.303441      0.321406  \n",
       "min        0.000000      0.000000  \n",
       "25%        0.000000      0.000000  \n",
       "50%        0.000000      0.000000  \n",
       "75%        0.000000      0.000000  \n",
       "max      275.000000      1.000000  "
      ]
     },
     "execution_count": 10,
     "metadata": {},
     "output_type": "execute_result"
    }
   ],
   "source": [
    "clean_df.describe()"
   ]
  },
  {
   "cell_type": "markdown",
   "id": "7c24db8d-2dbc-41ef-a363-f314e5e64df9",
   "metadata": {},
   "source": [
    "### Transform Categorical Features"
   ]
  },
  {
   "cell_type": "code",
   "execution_count": 11,
   "id": "1a4d4321-af0d-4535-8738-163ff8fe6f6d",
   "metadata": {},
   "outputs": [],
   "source": [
    "cont_features = []\n",
    "cat_features = []\n",
    "\n",
    "for c in clean_df.columns:\n",
    "    if clean_df[c].dtype == 'int64':\n",
    "        cont_features += [c]\n",
    "    else:\n",
    "        cat_features += [c]"
   ]
  },
  {
   "cell_type": "code",
   "execution_count": 12,
   "id": "a41db75a-6b56-4e7f-8833-fd932165139a",
   "metadata": {},
   "outputs": [
    {
     "data": {
      "text/plain": [
       "['job', 'marital', 'education', 'contact', 'month', 'poutcome']"
      ]
     },
     "execution_count": 12,
     "metadata": {},
     "output_type": "execute_result"
    }
   ],
   "source": [
    "cat_features"
   ]
  },
  {
   "cell_type": "markdown",
   "id": "c8b88a2c-5dc9-4e0c-af9c-428f98203d92",
   "metadata": {},
   "source": [
    "We will transform the categorical data to numerical with 'pd.get_dummies()'"
   ]
  },
  {
   "cell_type": "code",
   "execution_count": 13,
   "id": "b56d197c-a86e-424b-9e38-eff7ac436c9e",
   "metadata": {},
   "outputs": [
    {
     "name": "stdout",
     "output_type": "stream",
     "text": [
      "<class 'pandas.core.frame.DataFrame'>\n",
      "RangeIndex: 45211 entries, 0 to 45210\n",
      "Data columns (total 44 columns):\n",
      " #   Column               Non-Null Count  Dtype\n",
      "---  ------               --------------  -----\n",
      " 0   age group            45211 non-null  int64\n",
      " 1   eligible             45211 non-null  int64\n",
      " 2   salary               45211 non-null  int64\n",
      " 3   targeted             45211 non-null  int64\n",
      " 4   default              45211 non-null  int64\n",
      " 5   balance              45211 non-null  int64\n",
      " 6   housing              45211 non-null  int64\n",
      " 7   loan                 45211 non-null  int64\n",
      " 8   day                  45211 non-null  int64\n",
      " 9   campaign             45211 non-null  int64\n",
      " 10  previous             45211 non-null  int64\n",
      " 11  y                    45211 non-null  int64\n",
      " 12  job_blue-collar      45211 non-null  uint8\n",
      " 13  job_entrepreneur     45211 non-null  uint8\n",
      " 14  job_housemaid        45211 non-null  uint8\n",
      " 15  job_management       45211 non-null  uint8\n",
      " 16  job_retired          45211 non-null  uint8\n",
      " 17  job_self-employed    45211 non-null  uint8\n",
      " 18  job_services         45211 non-null  uint8\n",
      " 19  job_student          45211 non-null  uint8\n",
      " 20  job_technician       45211 non-null  uint8\n",
      " 21  job_unemployed       45211 non-null  uint8\n",
      " 22  job_unknown          45211 non-null  uint8\n",
      " 23  marital_married      45211 non-null  uint8\n",
      " 24  marital_single       45211 non-null  uint8\n",
      " 25  education_secondary  45211 non-null  uint8\n",
      " 26  education_tertiary   45211 non-null  uint8\n",
      " 27  education_unknown    45211 non-null  uint8\n",
      " 28  contact_telephone    45211 non-null  uint8\n",
      " 29  contact_unknown      45211 non-null  uint8\n",
      " 30  month_aug            45211 non-null  uint8\n",
      " 31  month_dec            45211 non-null  uint8\n",
      " 32  month_feb            45211 non-null  uint8\n",
      " 33  month_jan            45211 non-null  uint8\n",
      " 34  month_jul            45211 non-null  uint8\n",
      " 35  month_jun            45211 non-null  uint8\n",
      " 36  month_mar            45211 non-null  uint8\n",
      " 37  month_may            45211 non-null  uint8\n",
      " 38  month_nov            45211 non-null  uint8\n",
      " 39  month_oct            45211 non-null  uint8\n",
      " 40  month_sep            45211 non-null  uint8\n",
      " 41  poutcome_other       45211 non-null  uint8\n",
      " 42  poutcome_success     45211 non-null  uint8\n",
      " 43  poutcome_unknown     45211 non-null  uint8\n",
      "dtypes: int64(12), uint8(32)\n",
      "memory usage: 5.5 MB\n"
     ]
    }
   ],
   "source": [
    "df = pd.get_dummies(data=clean_df,columns=cat_features,drop_first=True)\n",
    "df.info()"
   ]
  },
  {
   "cell_type": "markdown",
   "id": "14c1fa85",
   "metadata": {},
   "source": [
    "### Split the data"
   ]
  },
  {
   "cell_type": "code",
   "execution_count": 14,
   "id": "484d9fc9",
   "metadata": {},
   "outputs": [],
   "source": [
    "X_train, X_test, y_train, y_test = train_test_split(df.drop(columns='y'), \n",
    "                                                    df.y.values, test_size=0.3, \n",
    "                                                    random_state=47, stratify=df.y)"
   ]
  },
  {
   "cell_type": "code",
   "execution_count": 15,
   "id": "f37b751e-01e1-47d4-8373-24431d94557f",
   "metadata": {},
   "outputs": [],
   "source": [
    "X_test.to_csv(r'/Users/majapedigo/Desktop/Capstone-Project-I/X_test.csv', index=False)\n"
   ]
  },
  {
   "cell_type": "code",
   "execution_count": 16,
   "id": "5f1d43fe-b62c-4021-bd41-6c0c67e41665",
   "metadata": {},
   "outputs": [],
   "source": [
    "pd.DataFrame(y_test).to_csv(r'/Users/majapedigo/Desktop/Capstone-Project-I/y_test.csv', index=False)\n"
   ]
  },
  {
   "cell_type": "code",
   "execution_count": 17,
   "id": "886d2ce6-947c-48a6-b0c2-0dba40017e9c",
   "metadata": {},
   "outputs": [],
   "source": [
    "pd.DataFrame(y_train).to_csv(r'/Users/majapedigo/Desktop/Capstone-Project-I/y_train.csv', index=False)\n"
   ]
  },
  {
   "cell_type": "code",
   "execution_count": 18,
   "id": "a3be3620-d155-4659-8627-3bd802404f7f",
   "metadata": {},
   "outputs": [],
   "source": [
    "train_columns = X_train"
   ]
  },
  {
   "cell_type": "code",
   "execution_count": 19,
   "id": "68bd70f6",
   "metadata": {},
   "outputs": [
    {
     "data": {
      "text/plain": [
       "((31647, 43), (13564, 43))"
      ]
     },
     "execution_count": 19,
     "metadata": {},
     "output_type": "execute_result"
    }
   ],
   "source": [
    "X_train.shape, X_test.shape"
   ]
  },
  {
   "cell_type": "code",
   "execution_count": 20,
   "id": "7b49fd4f-11f4-4d9c-a308-a89b5d4fbcfd",
   "metadata": {},
   "outputs": [
    {
     "data": {
      "text/plain": [
       "((31647,), (13564,))"
      ]
     },
     "execution_count": 20,
     "metadata": {},
     "output_type": "execute_result"
    }
   ],
   "source": [
    "y_train.shape, y_test.shape"
   ]
  },
  {
   "cell_type": "markdown",
   "id": "22dd6455-67c2-4b15-8b45-bbb0f3a6d88c",
   "metadata": {},
   "source": [
    "#### Scale the Data"
   ]
  },
  {
   "cell_type": "code",
   "execution_count": 21,
   "id": "4b84bc4d-cc7d-404b-a08e-db50d1879c90",
   "metadata": {},
   "outputs": [],
   "source": [
    "scaler = StandardScaler()\n",
    "scaler.fit(X_train)\n",
    "X_tr_scaled = scaler.transform(X_train)\n",
    "X_te_scaled = scaler.transform(X_test)"
   ]
  },
  {
   "cell_type": "markdown",
   "id": "2baba67f-28d9-4e61-9041-6266162dcfc0",
   "metadata": {},
   "source": [
    "### Fit different models "
   ]
  },
  {
   "cell_type": "code",
   "execution_count": 22,
   "id": "2114c53d-4479-40ad-b2fe-defa4de69b09",
   "metadata": {},
   "outputs": [],
   "source": [
    "from sklearn.linear_model import LogisticRegression\n",
    "from sklearn import tree\n",
    "from sklearn.ensemble import RandomForestClassifier\n",
    "# Import metrics and evaluations\n",
    "from sklearn.model_selection import cross_val_score,StratifiedKFold\n",
    "from sklearn import metrics\n",
    "from sklearn.metrics import confusion_matrix, classification_report, accuracy_score"
   ]
  },
  {
   "cell_type": "markdown",
   "id": "24713106-bc32-414c-bddd-2cf60ccc64a5",
   "metadata": {
    "tags": []
   },
   "source": [
    "#### Logistic Regression"
   ]
  },
  {
   "cell_type": "code",
   "execution_count": 23,
   "id": "5d4b5675-67b8-43a5-a8dc-ea75d98a7f93",
   "metadata": {
    "tags": []
   },
   "outputs": [],
   "source": [
    "lor = LogisticRegression().fit(X_tr_scaled, y_train)"
   ]
  },
  {
   "cell_type": "code",
   "execution_count": 24,
   "id": "1404469e-c0e5-4e59-a757-5f73d408ca88",
   "metadata": {
    "tags": []
   },
   "outputs": [],
   "source": [
    "y_tr_pred = lor.predict(X_tr_scaled)\n",
    "y_te_pred = lor.predict(X_te_scaled)"
   ]
  },
  {
   "cell_type": "markdown",
   "id": "64de84b6-3f6c-4ab9-955c-eb84b1258e63",
   "metadata": {
    "tags": []
   },
   "source": [
    "##### Make a pipeline with this model"
   ]
  },
  {
   "cell_type": "code",
   "execution_count": 25,
   "id": "89a0a727-631e-4d28-8d02-1a4402b976da",
   "metadata": {},
   "outputs": [
    {
     "data": {
      "text/plain": [
       "{'standardscaler': StandardScaler(),\n",
       " 'logisticregression': LogisticRegression()}"
      ]
     },
     "execution_count": 25,
     "metadata": {},
     "output_type": "execute_result"
    }
   ],
   "source": [
    "pipe_lor = make_pipeline(scaler, lor)\n",
    "pipe_lor.named_steps"
   ]
  },
  {
   "cell_type": "markdown",
   "id": "c9534ac4-9b69-41e1-bf66-13e1af8a6d7b",
   "metadata": {
    "tags": []
   },
   "source": [
    "##### Evaluating model using cross-validation"
   ]
  },
  {
   "cell_type": "code",
   "execution_count": 26,
   "id": "ddf28f56-4aed-4df6-90a2-fba370d04946",
   "metadata": {},
   "outputs": [],
   "source": [
    "# perform StratifiedKFold as our target data is highly imbalanced and we want to replicate this during folding\n",
    "k_fold = StratifiedKFold(n_splits=5, shuffle=False, random_state=None)\n"
   ]
  },
  {
   "cell_type": "code",
   "execution_count": 27,
   "id": "940c7177-aab5-438e-a6b0-aade70ab8f8d",
   "metadata": {},
   "outputs": [],
   "source": [
    "cv_results = cross_validate(pipe_lor, X_train, y_train, cv=k_fold, scoring='accuracy')"
   ]
  },
  {
   "cell_type": "code",
   "execution_count": 28,
   "id": "d41aa412-9c64-420d-9fb9-58f1b347d930",
   "metadata": {},
   "outputs": [
    {
     "name": "stdout",
     "output_type": "stream",
     "text": [
      "   fit_time  score_time  test_score\n",
      "0  0.128061    0.008526    0.891311\n",
      "1  0.122112    0.003760    0.891469\n",
      "2  0.141757    0.003606    0.889082\n",
      "3  0.105336    0.003643    0.888292\n",
      "4  0.112927    0.003027    0.894770\n"
     ]
    }
   ],
   "source": [
    "print(pd.DataFrame(cv_results))"
   ]
  },
  {
   "cell_type": "code",
   "execution_count": 29,
   "id": "59ea5fa4-6175-473b-bce6-4af69df649ff",
   "metadata": {},
   "outputs": [],
   "source": [
    "cv_scores = cv_results['test_score']"
   ]
  },
  {
   "cell_type": "code",
   "execution_count": 30,
   "id": "674f4c1c-9bc4-41e3-b4ed-d71046047793",
   "metadata": {},
   "outputs": [
    {
     "data": {
      "text/plain": [
       "(0.8909849018672542, 0.002260158855819227)"
      ]
     },
     "execution_count": 30,
     "metadata": {},
     "output_type": "execute_result"
    }
   ],
   "source": [
    "np.mean(cv_scores), np.std(cv_scores)"
   ]
  },
  {
   "cell_type": "code",
   "execution_count": 31,
   "id": "341776c9-f5f9-46a5-9e65-2aee857daf0a",
   "metadata": {},
   "outputs": [
    {
     "data": {
      "text/plain": [
       "array([0.89, 0.9 ])"
      ]
     },
     "execution_count": 31,
     "metadata": {},
     "output_type": "execute_result"
    }
   ],
   "source": [
    "np.round((np.mean(cv_scores) - 2 * np.std(cv_scores), np.mean(cv_scores) + 2 * np.std(cv_scores)), 2)"
   ]
  },
  {
   "cell_type": "code",
   "execution_count": 32,
   "id": "c887ac7a-2c07-42de-a711-0c17c7ab25f2",
   "metadata": {},
   "outputs": [
    {
     "name": "stdout",
     "output_type": "stream",
     "text": [
      "              precision    recall  f1-score   support\n",
      "\n",
      "           0       0.90      0.99      0.94     11977\n",
      "           1       0.66      0.19      0.29      1587\n",
      "\n",
      "    accuracy                           0.89     13564\n",
      "   macro avg       0.78      0.59      0.62     13564\n",
      "weighted avg       0.87      0.89      0.87     13564\n",
      "\n"
     ]
    }
   ],
   "source": [
    "print(classification_report(y_test, y_te_pred))"
   ]
  },
  {
   "cell_type": "code",
   "execution_count": 33,
   "id": "c1109e3b-1006-460b-98a8-3cd1548ca17b",
   "metadata": {},
   "outputs": [
    {
     "name": "stdout",
     "output_type": "stream",
     "text": [
      "       0    1\n",
      "0  11825  152\n",
      "1   1290  297\n"
     ]
    },
    {
     "data": {
      "text/plain": [
       "<AxesSubplot:>"
      ]
     },
     "execution_count": 33,
     "metadata": {},
     "output_type": "execute_result"
    },
    {
     "data": {
      "image/png": "[encoded data removed]",
      "text/plain": [
       "<Figure size 432x288 with 2 Axes>"
      ]
     },
     "metadata": {
      "needs_background": "light"
     },
     "output_type": "display_data"
    }
   ],
   "source": [
    "pl_lor = confusion_matrix(y_test,y_te_pred)\n",
    "print(pd.DataFrame(pl_lor))\n",
    "temp = pd.DataFrame(pl_lor)\n",
    "sns.heatmap(temp/np.sum(temp), annot=True, fmt='.2%', cmap='Blues')"
   ]
  },
  {
   "cell_type": "markdown",
   "id": "1c899937-6905-47a6-9e5f-3ed1b0e5ac54",
   "metadata": {},
   "source": [
    "ROC/AUC"
   ]
  },
  {
   "cell_type": "code",
   "execution_count": 34,
   "id": "8d4ebc79-84f5-473d-81fb-c31ca3e20525",
   "metadata": {},
   "outputs": [],
   "source": [
    "from sklearn.metrics import roc_curve, roc_auc_score"
   ]
  },
  {
   "cell_type": "code",
   "execution_count": 35,
   "id": "7c588174-1384-41bc-8fb4-f683ccd1b728",
   "metadata": {},
   "outputs": [],
   "source": [
    "y_proba = lor.predict_proba(X_te_scaled)[:, 1]"
   ]
  },
  {
   "cell_type": "code",
   "execution_count": 36,
   "id": "a2df3de1-0a79-45f4-b463-dfe4459a4019",
   "metadata": {},
   "outputs": [],
   "source": [
    "fpr, tpr, treshold = roc_curve(y_test, y_proba)"
   ]
  },
  {
   "cell_type": "code",
   "execution_count": 37,
   "id": "76f866ad-3b28-427a-a3f2-67b63d37af6f",
   "metadata": {},
   "outputs": [],
   "source": [
    "roc_auc = metrics.auc(fpr, tpr)\n"
   ]
  },
  {
   "cell_type": "code",
   "execution_count": 38,
   "id": "47b5253a-8155-407f-a261-c2bbb3e98c4b",
   "metadata": {},
   "outputs": [
    {
     "data": {
      "image/png": "[encoded data removed]",
      "text/plain": [
       "<Figure size 432x288 with 1 Axes>"
      ]
     },
     "metadata": {
      "needs_background": "light"
     },
     "output_type": "display_data"
    }
   ],
   "source": [
    "plt.title('Receiver Operating Characteristic')\n",
    "plt.plot(fpr, tpr, 'b', label = 'AUC = %0.2f' % roc_auc)\n",
    "plt.legend(loc = 'lower right')\n",
    "plt.plot([0, 1], [0, 1],'r--')\n",
    "plt.xlim([0, 1])\n",
    "plt.ylim([0, 1])\n",
    "plt.ylabel('True Positive Rate')\n",
    "plt.xlabel('False Positive Rate')\n",
    "plt.show()"
   ]
  },
  {
   "cell_type": "markdown",
   "id": "4536e6cc-d1ac-4379-8311-85946ed21a6e",
   "metadata": {},
   "source": [
    "##### Compare our model with DummyClassifier"
   ]
  },
  {
   "cell_type": "code",
   "execution_count": 39,
   "id": "2e9ba23d-f76b-45cc-8500-a299e312e300",
   "metadata": {},
   "outputs": [],
   "source": [
    "from sklearn.dummy import DummyClassifier"
   ]
  },
  {
   "cell_type": "code",
   "execution_count": 40,
   "id": "859191eb-0555-4f4e-a07e-bae7931b6669",
   "metadata": {},
   "outputs": [],
   "source": [
    "dummy = DummyClassifier()"
   ]
  },
  {
   "cell_type": "code",
   "execution_count": 41,
   "id": "6abd766b-aba1-4251-bab1-ac4a1fa8e2be",
   "metadata": {},
   "outputs": [
    {
     "data": {
      "text/plain": [
       "DummyClassifier()"
      ]
     },
     "execution_count": 41,
     "metadata": {},
     "output_type": "execute_result"
    }
   ],
   "source": [
    "dummy.fit(X_train, y_train)"
   ]
  },
  {
   "cell_type": "code",
   "execution_count": 42,
   "id": "79c32a20-76d2-4aff-9fac-c9e4858c8f52",
   "metadata": {},
   "outputs": [
    {
     "data": {
      "text/plain": [
       "0.8829991153052197"
      ]
     },
     "execution_count": 42,
     "metadata": {},
     "output_type": "execute_result"
    }
   ],
   "source": [
    "dummy.score(X_test, y_test)"
   ]
  },
  {
   "cell_type": "markdown",
   "id": "2aed7da6-ddcb-4029-8f64-3a27810409f7",
   "metadata": {},
   "source": [
    "We can see that our model performs better than a dummy one."
   ]
  },
  {
   "cell_type": "markdown",
   "id": "66634af8-658e-4768-9d70-f334960f50d5",
   "metadata": {},
   "source": [
    "#### Decision Tree "
   ]
  },
  {
   "cell_type": "code",
   "execution_count": 43,
   "id": "7441c62a-aa0a-4c93-a2ba-34dfbe07014a",
   "metadata": {
    "tags": []
   },
   "outputs": [],
   "source": [
    "dct = tree.DecisionTreeClassifier().fit(X_tr_scaled, y_train)"
   ]
  },
  {
   "cell_type": "code",
   "execution_count": 44,
   "id": "fa4a90b0-4eaa-4b03-bbc1-66ae35e7dbaf",
   "metadata": {
    "tags": []
   },
   "outputs": [],
   "source": [
    "y_tr_pred = dct.predict(X_tr_scaled)\n",
    "y_te_pred = dct.predict(X_te_scaled)"
   ]
  },
  {
   "cell_type": "markdown",
   "id": "2d36c856-c2a6-4346-bba6-5070de0b08e2",
   "metadata": {
    "tags": []
   },
   "source": [
    "##### Make a pipeline with this model"
   ]
  },
  {
   "cell_type": "code",
   "execution_count": 45,
   "id": "466175ad-c08b-40d9-9dfb-c76060b504cd",
   "metadata": {},
   "outputs": [],
   "source": [
    "pipe_dct = make_pipeline(scaler, dct)"
   ]
  },
  {
   "cell_type": "markdown",
   "id": "cb351e13-513d-4eb9-889e-69d9fd135c81",
   "metadata": {
    "tags": []
   },
   "source": [
    "##### Evaluating model using cross-validation"
   ]
  },
  {
   "cell_type": "code",
   "execution_count": 46,
   "id": "d125ac41-b6c5-4d81-b580-84572107288f",
   "metadata": {},
   "outputs": [],
   "source": [
    "# perform StratifiedKFold as our target data is highly imbalanced and we want to replicate this during folding\n",
    "k_fold = StratifiedKFold(n_splits=5, shuffle=False, random_state=None)\n"
   ]
  },
  {
   "cell_type": "code",
   "execution_count": 47,
   "id": "4c852f30-4a83-491e-b6ac-91eb423d4d73",
   "metadata": {},
   "outputs": [],
   "source": [
    "cv_results = cross_validate(pipe_dct, X_train, y_train, cv=k_fold, scoring='accuracy')"
   ]
  },
  {
   "cell_type": "code",
   "execution_count": 48,
   "id": "3e91781f-9cd5-4c6a-9546-afb0a57a2cc7",
   "metadata": {},
   "outputs": [
    {
     "name": "stdout",
     "output_type": "stream",
     "text": [
      "   fit_time  score_time  test_score\n",
      "0  0.283547    0.012344    0.827646\n",
      "1  0.254749    0.007955    0.826540\n",
      "2  0.206695    0.005069    0.828409\n",
      "3  0.217864    0.005337    0.819877\n",
      "4  0.229014    0.005354    0.826355\n"
     ]
    }
   ],
   "source": [
    "print(pd.DataFrame(cv_results))"
   ]
  },
  {
   "cell_type": "code",
   "execution_count": 49,
   "id": "a0de7887-100d-4f1f-8408-f059b6e2955a",
   "metadata": {},
   "outputs": [],
   "source": [
    "cv_scores = cv_results['test_score']"
   ]
  },
  {
   "cell_type": "code",
   "execution_count": 50,
   "id": "13c3f9ff-a9c7-4c11-82f0-b21b9d07696e",
   "metadata": {},
   "outputs": [
    {
     "data": {
      "text/plain": [
       "(0.8257653914863674, 0.003038069417349895)"
      ]
     },
     "execution_count": 50,
     "metadata": {},
     "output_type": "execute_result"
    }
   ],
   "source": [
    "np.mean(cv_scores), np.std(cv_scores)"
   ]
  },
  {
   "cell_type": "code",
   "execution_count": 51,
   "id": "28f5acac-53a8-460d-974c-deacb6d1f6f6",
   "metadata": {},
   "outputs": [
    {
     "data": {
      "text/plain": [
       "array([0.82, 0.83])"
      ]
     },
     "execution_count": 51,
     "metadata": {},
     "output_type": "execute_result"
    }
   ],
   "source": [
    "np.round((np.mean(cv_scores) - 2 * np.std(cv_scores), np.mean(cv_scores) + 2 * np.std(cv_scores)), 2)"
   ]
  },
  {
   "cell_type": "code",
   "execution_count": 52,
   "id": "6ce1d971-1979-4bdd-a5bb-dcbee0890bc6",
   "metadata": {},
   "outputs": [
    {
     "name": "stdout",
     "output_type": "stream",
     "text": [
      "              precision    recall  f1-score   support\n",
      "\n",
      "           0       0.91      0.89      0.90     11977\n",
      "           1       0.29      0.32      0.30      1587\n",
      "\n",
      "    accuracy                           0.83     13564\n",
      "   macro avg       0.60      0.61      0.60     13564\n",
      "weighted avg       0.84      0.83      0.83     13564\n",
      "\n"
     ]
    }
   ],
   "source": [
    "print(classification_report(y_test, y_te_pred))"
   ]
  },
  {
   "cell_type": "code",
   "execution_count": 53,
   "id": "18d033ff-3b55-4759-9ec4-e7ec60cf235a",
   "metadata": {},
   "outputs": [
    {
     "name": "stdout",
     "output_type": "stream",
     "text": [
      "       0     1\n",
      "0  10719  1258\n",
      "1   1079   508\n"
     ]
    },
    {
     "data": {
      "text/plain": [
       "<AxesSubplot:>"
      ]
     },
     "execution_count": 53,
     "metadata": {},
     "output_type": "execute_result"
    },
    {
     "data": {
      "image/png": "[encoded data removed]",
      "text/plain": [
       "<Figure size 432x288 with 2 Axes>"
      ]
     },
     "metadata": {
      "needs_background": "light"
     },
     "output_type": "display_data"
    }
   ],
   "source": [
    "pl_dct = confusion_matrix(y_test,y_te_pred)\n",
    "print(pd.DataFrame(pl_dct))\n",
    "temp = pd.DataFrame(pl_dct)\n",
    "sns.heatmap(temp/np.sum(temp), annot=True, fmt='.2%', cmap='Blues')"
   ]
  },
  {
   "cell_type": "markdown",
   "id": "486fa21a-20ef-4d16-bb93-e9567bae2666",
   "metadata": {},
   "source": [
    "ROC/AUC"
   ]
  },
  {
   "cell_type": "code",
   "execution_count": 54,
   "id": "b2873ba8-ccd5-4e0f-8d6e-cc2c0cf3b870",
   "metadata": {},
   "outputs": [],
   "source": [
    "from sklearn.metrics import roc_curve, roc_auc_score"
   ]
  },
  {
   "cell_type": "code",
   "execution_count": 55,
   "id": "026a601b-3cc4-46e5-a42b-f11b87741112",
   "metadata": {},
   "outputs": [],
   "source": [
    "y_proba = dct.predict_proba(X_te_scaled)[:, 1]"
   ]
  },
  {
   "cell_type": "code",
   "execution_count": 56,
   "id": "26465905-05be-4244-8d76-33063a7fe2d6",
   "metadata": {},
   "outputs": [],
   "source": [
    "fpr, tpr, treshold = roc_curve(y_test, y_proba)"
   ]
  },
  {
   "cell_type": "code",
   "execution_count": 57,
   "id": "8486fcc0-4690-4323-aae0-597615f5a4cc",
   "metadata": {},
   "outputs": [],
   "source": [
    "roc_auc = metrics.auc(fpr, tpr)\n"
   ]
  },
  {
   "cell_type": "code",
   "execution_count": 58,
   "id": "2e8e270a-d714-4d98-b27a-3eb66a298341",
   "metadata": {},
   "outputs": [
    {
     "data": {
      "image/png": "[encoded data removed]",
      "text/plain": [
       "<Figure size 432x288 with 1 Axes>"
      ]
     },
     "metadata": {
      "needs_background": "light"
     },
     "output_type": "display_data"
    }
   ],
   "source": [
    "plt.title('Receiver Operating Characteristic')\n",
    "plt.plot(fpr, tpr, 'b', label = 'AUC = %0.2f' % roc_auc)\n",
    "plt.legend(loc = 'lower right')\n",
    "plt.plot([0, 1], [0, 1],'r--')\n",
    "plt.xlim([0, 1])\n",
    "plt.ylim([0, 1])\n",
    "plt.ylabel('True Positive Rate')\n",
    "plt.xlabel('False Positive Rate')\n",
    "plt.show()"
   ]
  },
  {
   "cell_type": "markdown",
   "id": "f3d61a81-142a-422d-bd69-4447af702172",
   "metadata": {},
   "source": [
    "All metrics are significantly worse with decision tree model."
   ]
  },
  {
   "cell_type": "markdown",
   "id": "b489694a-03bd-46bf-b61e-3d2fd1b3a449",
   "metadata": {},
   "source": [
    "#### Random Forest"
   ]
  },
  {
   "cell_type": "code",
   "execution_count": 59,
   "id": "adb8ee75-1581-430c-9162-264285a69a48",
   "metadata": {
    "tags": []
   },
   "outputs": [],
   "source": [
    "rf = RandomForestClassifier().fit(X_tr_scaled, y_train)"
   ]
  },
  {
   "cell_type": "code",
   "execution_count": 60,
   "id": "f421c1fb-0e10-43de-97ad-dc9e208d25ce",
   "metadata": {
    "tags": []
   },
   "outputs": [],
   "source": [
    "y_tr_pred = rf.predict(X_tr_scaled)\n",
    "y_te_pred = rf.predict(X_te_scaled)"
   ]
  },
  {
   "cell_type": "code",
   "execution_count": 61,
   "id": "87be815c-14dd-496e-b795-227ff6630fc3",
   "metadata": {},
   "outputs": [
    {
     "data": {
      "text/plain": [
       "0.11681991973962777"
      ]
     },
     "execution_count": 61,
     "metadata": {},
     "output_type": "execute_result"
    }
   ],
   "source": [
    "y_tr_pred.mean()"
   ]
  },
  {
   "cell_type": "markdown",
   "id": "60dd8881-5df7-4fab-be42-a500f3ce3f76",
   "metadata": {
    "tags": []
   },
   "source": [
    "##### Make a pipeline with this model"
   ]
  },
  {
   "cell_type": "code",
   "execution_count": 62,
   "id": "429e5ef1-5824-4af0-8835-6d2bd0ca5558",
   "metadata": {},
   "outputs": [
    {
     "data": {
      "text/plain": [
       "0.04143320554408729"
      ]
     },
     "execution_count": 62,
     "metadata": {},
     "output_type": "execute_result"
    }
   ],
   "source": [
    "y_te_pred.mean()"
   ]
  },
  {
   "cell_type": "code",
   "execution_count": 63,
   "id": "b96a4f75-afba-47c5-a26a-b0d56ae0ab2e",
   "metadata": {},
   "outputs": [],
   "source": [
    "pipe_rf = make_pipeline(scaler, rf)"
   ]
  },
  {
   "cell_type": "markdown",
   "id": "7ee7d975-efb4-4c00-8471-fced40d37dbb",
   "metadata": {
    "tags": []
   },
   "source": [
    "##### Evaluating model using cross-validation"
   ]
  },
  {
   "cell_type": "code",
   "execution_count": 64,
   "id": "544379f4-b036-4fa4-916d-7da256a5306c",
   "metadata": {},
   "outputs": [],
   "source": [
    "# perform StratifiedKFold as our target data is highly imbalanced and we want to replicate this during folding\n",
    "k_fold = StratifiedKFold(n_splits=5, shuffle=False, random_state=None)\n"
   ]
  },
  {
   "cell_type": "code",
   "execution_count": 65,
   "id": "15ba5c21-bf9c-4ea2-940b-67bf0a29dfa5",
   "metadata": {},
   "outputs": [],
   "source": [
    "cv_results = cross_validate(pipe_rf, X_train, y_train, cv=k_fold, scoring='accuracy')"
   ]
  },
  {
   "cell_type": "code",
   "execution_count": 66,
   "id": "269cfcf5-6f7a-4a69-9acb-4559ff8704bf",
   "metadata": {},
   "outputs": [
    {
     "name": "stdout",
     "output_type": "stream",
     "text": [
      "   fit_time  score_time  test_score\n",
      "0  2.221906    0.129156    0.888626\n",
      "1  2.338549    0.131157    0.891311\n",
      "2  2.336185    0.134354    0.888924\n",
      "3  2.442491    0.160910    0.892716\n",
      "4  2.739652    0.152906    0.890030\n"
     ]
    }
   ],
   "source": [
    "print(pd.DataFrame(cv_results))"
   ]
  },
  {
   "cell_type": "code",
   "execution_count": 67,
   "id": "c5e3d2da-68cf-4bd8-9b0b-f00e2597667c",
   "metadata": {},
   "outputs": [],
   "source": [
    "cv_scores = cv_results['test_score']"
   ]
  },
  {
   "cell_type": "code",
   "execution_count": 68,
   "id": "98df7347-6bc3-43aa-8c54-77a76e51a5f8",
   "metadata": {},
   "outputs": [
    {
     "data": {
      "text/plain": [
       "(0.8903213797816765, 0.0015249633433662988)"
      ]
     },
     "execution_count": 68,
     "metadata": {},
     "output_type": "execute_result"
    }
   ],
   "source": [
    "np.mean(cv_scores), np.std(cv_scores)"
   ]
  },
  {
   "cell_type": "code",
   "execution_count": 69,
   "id": "83a36987-7ab1-422a-b504-4d4ea127b6fa",
   "metadata": {},
   "outputs": [
    {
     "data": {
      "text/plain": [
       "array([0.89, 0.89])"
      ]
     },
     "execution_count": 69,
     "metadata": {},
     "output_type": "execute_result"
    }
   ],
   "source": [
    "np.round((np.mean(cv_scores) - 2 * np.std(cv_scores), np.mean(cv_scores) + 2 * np.std(cv_scores)), 2)"
   ]
  },
  {
   "cell_type": "code",
   "execution_count": 70,
   "id": "80cf1f82-0d58-44a4-b42b-97d7bfee2f7a",
   "metadata": {},
   "outputs": [
    {
     "name": "stdout",
     "output_type": "stream",
     "text": [
      "              precision    recall  f1-score   support\n",
      "\n",
      "           0       0.90      0.98      0.94     11977\n",
      "           1       0.61      0.22      0.32      1587\n",
      "\n",
      "    accuracy                           0.89     13564\n",
      "   macro avg       0.76      0.60      0.63     13564\n",
      "weighted avg       0.87      0.89      0.87     13564\n",
      "\n"
     ]
    }
   ],
   "source": [
    "print(classification_report(y_test, y_te_pred))"
   ]
  },
  {
   "cell_type": "code",
   "execution_count": 71,
   "id": "87979a34-bd29-45f7-9937-955dfb4b7972",
   "metadata": {},
   "outputs": [
    {
     "name": "stdout",
     "output_type": "stream",
     "text": [
      "       0    1\n",
      "0  11759  218\n",
      "1   1243  344\n"
     ]
    },
    {
     "data": {
      "text/plain": [
       "<AxesSubplot:>"
      ]
     },
     "execution_count": 71,
     "metadata": {},
     "output_type": "execute_result"
    },
    {
     "data": {
      "image/png": "[encoded data removed]",
      "text/plain": [
       "<Figure size 432x288 with 2 Axes>"
      ]
     },
     "metadata": {
      "needs_background": "light"
     },
     "output_type": "display_data"
    }
   ],
   "source": [
    "pl_rf = confusion_matrix(y_test,y_te_pred)\n",
    "print(pd.DataFrame(pl_rf))\n",
    "temp = pd.DataFrame(pl_rf)\n",
    "sns.heatmap(temp/np.sum(temp), annot=True, fmt='.2%', cmap='Blues')"
   ]
  },
  {
   "cell_type": "markdown",
   "id": "5d963efd-ce31-49c8-91c5-7e6b72997e5a",
   "metadata": {},
   "source": [
    "ROC/AUC"
   ]
  },
  {
   "cell_type": "code",
   "execution_count": 72,
   "id": "3a728090-2d61-48d5-ba3d-954d6fc5641b",
   "metadata": {},
   "outputs": [],
   "source": [
    "from sklearn.metrics import roc_curve, roc_auc_score"
   ]
  },
  {
   "cell_type": "code",
   "execution_count": 73,
   "id": "751dc85d-1f1d-4598-bdb7-a9a57cd9a5b4",
   "metadata": {},
   "outputs": [],
   "source": [
    "y_proba = rf.predict_proba(X_te_scaled)[:, 1]"
   ]
  },
  {
   "cell_type": "code",
   "execution_count": 74,
   "id": "2bff9959-e94a-4d97-9507-56fd6a495705",
   "metadata": {},
   "outputs": [],
   "source": [
    "fpr, tpr, treshold = roc_curve(y_test, y_proba)"
   ]
  },
  {
   "cell_type": "code",
   "execution_count": 75,
   "id": "2345aa5d-e0e9-4bad-a72b-74d21c687ea9",
   "metadata": {},
   "outputs": [],
   "source": [
    "roc_auc = metrics.auc(fpr, tpr)\n"
   ]
  },
  {
   "cell_type": "code",
   "execution_count": 76,
   "id": "f652c8b4-fc26-4bc3-af62-c19073fb9c7d",
   "metadata": {},
   "outputs": [
    {
     "data": {
      "image/png": "[encoded data removed]",
      "text/plain": [
       "<Figure size 432x288 with 1 Axes>"
      ]
     },
     "metadata": {
      "needs_background": "light"
     },
     "output_type": "display_data"
    }
   ],
   "source": [
    "plt.title('Receiver Operating Characteristic')\n",
    "plt.plot(fpr, tpr, 'b', label = 'AUC = %0.2f' % roc_auc)\n",
    "plt.legend(loc = 'lower right')\n",
    "plt.plot([0, 1], [0, 1],'r--')\n",
    "plt.xlim([0, 1])\n",
    "plt.ylim([0, 1])\n",
    "plt.ylabel('True Positive Rate')\n",
    "plt.xlabel('False Positive Rate')\n",
    "plt.show()"
   ]
  },
  {
   "cell_type": "markdown",
   "id": "23f0f2f8-ff9f-4a9a-8d10-10b40d53c582",
   "metadata": {},
   "source": [
    "Random Forest gave the best results so far."
   ]
  },
  {
   "cell_type": "markdown",
   "id": "5fad90d0-08f7-483e-9687-c1fa683f8af7",
   "metadata": {},
   "source": [
    "### Hyperparameter search using GridSearchCV"
   ]
  },
  {
   "cell_type": "markdown",
   "id": "a0c25718-2d4c-41da-832b-a557685f9284",
   "metadata": {},
   "source": [
    "#### Create RF pipe"
   ]
  },
  {
   "cell_type": "code",
   "execution_count": 77,
   "id": "a009b842-49a3-4646-bd19-4a0c981afa46",
   "metadata": {},
   "outputs": [],
   "source": [
    "RF_pipe = make_pipeline(\n",
    "    StandardScaler(),\n",
    "    RandomForestClassifier()\n",
    ")"
   ]
  },
  {
   "cell_type": "code",
   "execution_count": 78,
   "id": "7a78b264-e81d-4c1d-8c7f-73175a80e408",
   "metadata": {},
   "outputs": [
    {
     "data": {
      "text/plain": [
       "dict_keys(['memory', 'steps', 'verbose', 'standardscaler', 'randomforestclassifier', 'standardscaler__copy', 'standardscaler__with_mean', 'standardscaler__with_std', 'randomforestclassifier__bootstrap', 'randomforestclassifier__ccp_alpha', 'randomforestclassifier__class_weight', 'randomforestclassifier__criterion', 'randomforestclassifier__max_depth', 'randomforestclassifier__max_features', 'randomforestclassifier__max_leaf_nodes', 'randomforestclassifier__max_samples', 'randomforestclassifier__min_impurity_decrease', 'randomforestclassifier__min_samples_leaf', 'randomforestclassifier__min_samples_split', 'randomforestclassifier__min_weight_fraction_leaf', 'randomforestclassifier__n_estimators', 'randomforestclassifier__n_jobs', 'randomforestclassifier__oob_score', 'randomforestclassifier__random_state', 'randomforestclassifier__verbose', 'randomforestclassifier__warm_start'])"
      ]
     },
     "execution_count": 78,
     "metadata": {},
     "output_type": "execute_result"
    }
   ],
   "source": [
    "# Create the grid search param\n",
    "n_est = [int(n) for n in np.logspace(start=1, stop=3, num=20)]\n",
    "grid_params = {\n",
    "        'randomforestclassifier__n_estimators': n_est,\n",
    "        'randomforestclassifier__max_features':('auto', 'sqrt', 'log2')\n",
    "}\n",
    "\n",
    "RF_pipe.get_params().keys()"
   ]
  },
  {
   "cell_type": "code",
   "execution_count": null,
   "id": "b9356a4d-b3e5-4959-8a66-71b9ada9fcf9",
   "metadata": {},
   "outputs": [],
   "source": []
  },
  {
   "cell_type": "code",
   "execution_count": 79,
   "id": "2f007f4c-25e7-4b04-9993-c81f1f25dfed",
   "metadata": {},
   "outputs": [
    {
     "data": {
      "text/plain": [
       "GridSearchCV(cv=StratifiedKFold(n_splits=5, random_state=None, shuffle=False),\n",
       "             estimator=Pipeline(steps=[('standardscaler', StandardScaler()),\n",
       "                                       ('randomforestclassifier',\n",
       "                                        RandomForestClassifier())]),\n",
       "             n_jobs=-1,\n",
       "             param_grid={'randomforestclassifier__max_features': ('auto',\n",
       "                                                                  'sqrt',\n",
       "                                                                  'log2'),\n",
       "                         'randomforestclassifier__n_estimators': [10, 12, 16,\n",
       "                                                                  20, 26, 33,\n",
       "                                                                  42, 54, 69,\n",
       "                                                                  88, 112, 143,\n",
       "                                                                  183, 233, 297,\n",
       "                                                                  379, 483, 615,\n",
       "                                                                  784, 1000]})"
      ]
     },
     "execution_count": 79,
     "metadata": {},
     "output_type": "execute_result"
    }
   ],
   "source": [
    "from sklearn.model_selection import GridSearchCV\n",
    "\n",
    "rf_grid = GridSearchCV(RF_pipe, param_grid = grid_params, cv = k_fold, verbose=0, n_jobs = -1)\n",
    "# Fit the grid search model\n",
    "rf_grid.fit(X_train, y_train)"
   ]
  },
  {
   "cell_type": "code",
   "execution_count": 80,
   "id": "2b687dfb-7e43-4765-bf22-ee112936a3c8",
   "metadata": {},
   "outputs": [
    {
     "data": {
      "text/plain": [
       "{'randomforestclassifier__max_features': 'sqrt',\n",
       " 'randomforestclassifier__n_estimators': 297}"
      ]
     },
     "execution_count": 80,
     "metadata": {},
     "output_type": "execute_result"
    }
   ],
   "source": [
    "rf_grid.best_params_\n"
   ]
  },
  {
   "cell_type": "code",
   "execution_count": 81,
   "id": "2a559949-f9bb-49b0-b015-070990d8cb27",
   "metadata": {},
   "outputs": [
    {
     "data": {
      "text/plain": [
       "array([0.89004739, 0.89052133, 0.888766  , 0.89082003, 0.89271607])"
      ]
     },
     "execution_count": 81,
     "metadata": {},
     "output_type": "execute_result"
    }
   ],
   "source": [
    "rf_best_cv_results = cross_validate(rf_grid.best_estimator_, X_train, y_train, cv=5)\n",
    "rf_best_scores = rf_best_cv_results['test_score']\n",
    "rf_best_scores"
   ]
  },
  {
   "cell_type": "code",
   "execution_count": 82,
   "id": "8a6eeebe-6f70-4e93-b509-48fb55a1a1a9",
   "metadata": {},
   "outputs": [
    {
     "data": {
      "text/plain": [
       "(0.8905741643633945, 0.0012804650002934555)"
      ]
     },
     "execution_count": 82,
     "metadata": {},
     "output_type": "execute_result"
    }
   ],
   "source": [
    "np.mean(rf_best_scores), np.std(rf_best_scores)"
   ]
  },
  {
   "cell_type": "markdown",
   "id": "cba50bbd-ccdf-433d-89db-d351b3bfbf4f",
   "metadata": {},
   "source": [
    "#### Feature Selection"
   ]
  },
  {
   "cell_type": "code",
   "execution_count": 83,
   "id": "c6985843-b5fe-45ff-8c6e-1b6114cca548",
   "metadata": {},
   "outputs": [
    {
     "name": "stdout",
     "output_type": "stream",
     "text": [
      "30\n"
     ]
    },
    {
     "data": {
      "image/png": "[encoded data removed]",
      "text/plain": [
       "<Figure size 720x720 with 1 Axes>"
      ]
     },
     "metadata": {
      "needs_background": "light"
     },
     "output_type": "display_data"
    }
   ],
   "source": [
    "feature_importance = rf.feature_importances_\n",
    "# make importances relative to max importance\n",
    "feature_importance = 100.0 * (feature_importance / feature_importance.max())[:30]\n",
    "sorted_idx = np.argsort(feature_importance)[:30]\n",
    "\n",
    "pos = np.arange(sorted_idx.shape[0]) + .5\n",
    "print(pos.size)\n",
    "sorted_idx.size\n",
    "plt.figure(figsize=(10,10))\n",
    "plt.barh(pos, feature_importance[sorted_idx], align='center')\n",
    "plt.yticks(pos, X_train.columns[sorted_idx])\n",
    "plt.xlabel('Relative Importance')\n",
    "plt.title('Variable Importance')\n",
    "plt.show()"
   ]
  },
  {
   "cell_type": "markdown",
   "id": "2ad91e89-f19e-4206-a5a5-d0dff8194a45",
   "metadata": {},
   "source": [
    "## Final Model Selection"
   ]
  },
  {
   "cell_type": "code",
   "execution_count": 84,
   "id": "824a027a-0b13-4922-8463-52cdd300804f",
   "metadata": {},
   "outputs": [],
   "source": [
    "best_model = rf_grid.best_estimator_"
   ]
  },
  {
   "cell_type": "code",
   "execution_count": 85,
   "id": "01bc8ab8-b97a-4dea-be4d-1c2364264e9f",
   "metadata": {},
   "outputs": [],
   "source": [
    "import pickle\n",
    "Pkl_Filename = \"Pickle_RF_Model.pkl\"  \n",
    "\n",
    "with open(Pkl_Filename, 'wb') as file:  \n",
    "    pickle.dump(best_model, file)"
   ]
  },
  {
   "cell_type": "code",
   "execution_count": 86,
   "id": "dfd95bfc-efd6-4e73-a0b3-62307dce3b2d",
   "metadata": {},
   "outputs": [],
   "source": [
    "df.to_csv(r'/Users/majapedigo/Desktop/Capstone-Project-I/pp_df.csv', index=False)\n"
   ]
  },
  {
   "cell_type": "code",
   "execution_count": null,
   "id": "947c412b-a730-4594-bbd1-4407217fdfe5",
   "metadata": {},
   "outputs": [],
   "source": []
  },
  {
   "cell_type": "code",
   "execution_count": null,
   "id": "ad48040d-c928-4314-afc6-6888d5b5128a",
   "metadata": {},
   "outputs": [],
   "source": []
  }
 ],
 "metadata": {
  "kernelspec": {
   "display_name": "Python 3 (ipykernel)",
   "language": "python",
   "name": "python3"
  },
  "language_info": {
   "codemirror_mode": {
    "name": "ipython",
    "version": 3
   },
   "file_extension": ".py",
   "mimetype": "text/x-python",
   "name": "python",
   "nbconvert_exporter": "python",
   "pygments_lexer": "ipython3",
   "version": "3.8.8"
  },
  "toc-autonumbering": false,
  "toc-showcode": false,
  "toc-showmarkdowntxt": false,
  "toc-showtags": false
 },
 "nbformat": 4,
 "nbformat_minor": 5
}
