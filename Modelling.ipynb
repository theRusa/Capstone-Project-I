{
 "cells": [
  {
   "cell_type": "markdown",
   "id": "1c24bbd6",
   "metadata": {},
   "source": [
    "### Capstone Two: Modelling"
   ]
  },
  {
   "cell_type": "code",
   "execution_count": 1,
   "id": "ef72e0c6",
   "metadata": {},
   "outputs": [],
   "source": [
    "import pandas as pd\n",
    "import numpy as np\n",
    "import os\n",
    "import matplotlib.pyplot as plt\n",
    "%matplotlib inline\n",
    "import seaborn as sns\n",
    "import sklearn\n",
    "from sklearn.model_selection import train_test_split, cross_validate\n",
    "from pandas import get_dummies\n",
    "from sklearn.linear_model import LogisticRegression\n",
    "from sklearn.pipeline import Pipeline\n",
    "from sklearn.tree import DecisionTreeClassifier\n",
    "from sklearn.ensemble import RandomForestClassifier\n",
    "from sklearn.metrics import accuracy_score\n",
    "from sklearn.metrics import roc_curve,f1_score\n",
    "from sklearn.metrics import roc_auc_score\n",
    "from sklearn.metrics import classification_report,plot_roc_curve,plot_precision_recall_curve\n",
    "import scipy.stats as stats\n",
    "import pickle\n",
    "import warnings\n",
    "warnings.filterwarnings('ignore')"
   ]
  },
  {
   "cell_type": "markdown",
   "id": "8a3fef28-82ce-4eaf-8a33-c24d3ed9dcfe",
   "metadata": {},
   "source": [
    "We start by importing previsouly processed dataframe:"
   ]
  },
  {
   "cell_type": "code",
   "execution_count": 2,
   "id": "d93b335a",
   "metadata": {},
   "outputs": [],
   "source": [
    "df = pd.read_csv('pp_df.csv')"
   ]
  },
  {
   "cell_type": "code",
   "execution_count": 3,
   "id": "415b1aa6",
   "metadata": {},
   "outputs": [
    {
     "data": {
      "text/html": [
       "<div>\n",
       "<style scoped>\n",
       "    .dataframe tbody tr th:only-of-type {\n",
       "        vertical-align: middle;\n",
       "    }\n",
       "\n",
       "    .dataframe tbody tr th {\n",
       "        vertical-align: top;\n",
       "    }\n",
       "\n",
       "    .dataframe thead th {\n",
       "        text-align: right;\n",
       "    }\n",
       "</style>\n",
       "<table border=\"1\" class=\"dataframe\">\n",
       "  <thead>\n",
       "    <tr style=\"text-align: right;\">\n",
       "      <th></th>\n",
       "      <th>age group</th>\n",
       "      <th>eligible</th>\n",
       "      <th>salary</th>\n",
       "      <th>targeted</th>\n",
       "      <th>default</th>\n",
       "      <th>balance</th>\n",
       "      <th>housing</th>\n",
       "      <th>loan</th>\n",
       "      <th>day</th>\n",
       "      <th>campaign</th>\n",
       "      <th>...</th>\n",
       "      <th>month_jul</th>\n",
       "      <th>month_jun</th>\n",
       "      <th>month_mar</th>\n",
       "      <th>month_may</th>\n",
       "      <th>month_nov</th>\n",
       "      <th>month_oct</th>\n",
       "      <th>month_sep</th>\n",
       "      <th>poutcome_other</th>\n",
       "      <th>poutcome_success</th>\n",
       "      <th>poutcome_unknown</th>\n",
       "    </tr>\n",
       "  </thead>\n",
       "  <tbody>\n",
       "    <tr>\n",
       "      <th>0</th>\n",
       "      <td>5</td>\n",
       "      <td>1</td>\n",
       "      <td>100000</td>\n",
       "      <td>1</td>\n",
       "      <td>0</td>\n",
       "      <td>2143</td>\n",
       "      <td>1</td>\n",
       "      <td>0</td>\n",
       "      <td>5</td>\n",
       "      <td>1</td>\n",
       "      <td>...</td>\n",
       "      <td>0</td>\n",
       "      <td>0</td>\n",
       "      <td>0</td>\n",
       "      <td>1</td>\n",
       "      <td>0</td>\n",
       "      <td>0</td>\n",
       "      <td>0</td>\n",
       "      <td>0</td>\n",
       "      <td>0</td>\n",
       "      <td>1</td>\n",
       "    </tr>\n",
       "    <tr>\n",
       "      <th>1</th>\n",
       "      <td>4</td>\n",
       "      <td>1</td>\n",
       "      <td>60000</td>\n",
       "      <td>1</td>\n",
       "      <td>0</td>\n",
       "      <td>29</td>\n",
       "      <td>1</td>\n",
       "      <td>0</td>\n",
       "      <td>5</td>\n",
       "      <td>1</td>\n",
       "      <td>...</td>\n",
       "      <td>0</td>\n",
       "      <td>0</td>\n",
       "      <td>0</td>\n",
       "      <td>1</td>\n",
       "      <td>0</td>\n",
       "      <td>0</td>\n",
       "      <td>0</td>\n",
       "      <td>0</td>\n",
       "      <td>0</td>\n",
       "      <td>1</td>\n",
       "    </tr>\n",
       "    <tr>\n",
       "      <th>2</th>\n",
       "      <td>3</td>\n",
       "      <td>1</td>\n",
       "      <td>120000</td>\n",
       "      <td>1</td>\n",
       "      <td>0</td>\n",
       "      <td>2</td>\n",
       "      <td>1</td>\n",
       "      <td>1</td>\n",
       "      <td>5</td>\n",
       "      <td>1</td>\n",
       "      <td>...</td>\n",
       "      <td>0</td>\n",
       "      <td>0</td>\n",
       "      <td>0</td>\n",
       "      <td>1</td>\n",
       "      <td>0</td>\n",
       "      <td>0</td>\n",
       "      <td>0</td>\n",
       "      <td>0</td>\n",
       "      <td>0</td>\n",
       "      <td>1</td>\n",
       "    </tr>\n",
       "    <tr>\n",
       "      <th>3</th>\n",
       "      <td>4</td>\n",
       "      <td>1</td>\n",
       "      <td>20000</td>\n",
       "      <td>0</td>\n",
       "      <td>0</td>\n",
       "      <td>1506</td>\n",
       "      <td>1</td>\n",
       "      <td>0</td>\n",
       "      <td>5</td>\n",
       "      <td>1</td>\n",
       "      <td>...</td>\n",
       "      <td>0</td>\n",
       "      <td>0</td>\n",
       "      <td>0</td>\n",
       "      <td>1</td>\n",
       "      <td>0</td>\n",
       "      <td>0</td>\n",
       "      <td>0</td>\n",
       "      <td>0</td>\n",
       "      <td>0</td>\n",
       "      <td>1</td>\n",
       "    </tr>\n",
       "    <tr>\n",
       "      <th>4</th>\n",
       "      <td>3</td>\n",
       "      <td>1</td>\n",
       "      <td>0</td>\n",
       "      <td>0</td>\n",
       "      <td>0</td>\n",
       "      <td>1</td>\n",
       "      <td>0</td>\n",
       "      <td>0</td>\n",
       "      <td>5</td>\n",
       "      <td>1</td>\n",
       "      <td>...</td>\n",
       "      <td>0</td>\n",
       "      <td>0</td>\n",
       "      <td>0</td>\n",
       "      <td>1</td>\n",
       "      <td>0</td>\n",
       "      <td>0</td>\n",
       "      <td>0</td>\n",
       "      <td>0</td>\n",
       "      <td>0</td>\n",
       "      <td>1</td>\n",
       "    </tr>\n",
       "  </tbody>\n",
       "</table>\n",
       "<p>5 rows × 44 columns</p>\n",
       "</div>"
      ],
      "text/plain": [
       "   age group  eligible  salary  targeted  default  balance  housing  loan  \\\n",
       "0          5         1  100000         1        0     2143        1     0   \n",
       "1          4         1   60000         1        0       29        1     0   \n",
       "2          3         1  120000         1        0        2        1     1   \n",
       "3          4         1   20000         0        0     1506        1     0   \n",
       "4          3         1       0         0        0        1        0     0   \n",
       "\n",
       "   day  campaign  ...  month_jul  month_jun  month_mar  month_may  month_nov  \\\n",
       "0    5         1  ...          0          0          0          1          0   \n",
       "1    5         1  ...          0          0          0          1          0   \n",
       "2    5         1  ...          0          0          0          1          0   \n",
       "3    5         1  ...          0          0          0          1          0   \n",
       "4    5         1  ...          0          0          0          1          0   \n",
       "\n",
       "   month_oct  month_sep  poutcome_other  poutcome_success  poutcome_unknown  \n",
       "0          0          0               0                 0                 1  \n",
       "1          0          0               0                 0                 1  \n",
       "2          0          0               0                 0                 1  \n",
       "3          0          0               0                 0                 1  \n",
       "4          0          0               0                 0                 1  \n",
       "\n",
       "[5 rows x 44 columns]"
      ]
     },
     "execution_count": 3,
     "metadata": {},
     "output_type": "execute_result"
    }
   ],
   "source": [
    "df.head()"
   ]
  },
  {
   "cell_type": "code",
   "execution_count": 4,
   "id": "29565c6c-f639-4994-9d3a-f551fe252eab",
   "metadata": {},
   "outputs": [
    {
     "name": "stdout",
     "output_type": "stream",
     "text": [
      "<class 'pandas.core.frame.DataFrame'>\n",
      "RangeIndex: 45211 entries, 0 to 45210\n",
      "Data columns (total 44 columns):\n",
      " #   Column               Non-Null Count  Dtype\n",
      "---  ------               --------------  -----\n",
      " 0   age group            45211 non-null  int64\n",
      " 1   eligible             45211 non-null  int64\n",
      " 2   salary               45211 non-null  int64\n",
      " 3   targeted             45211 non-null  int64\n",
      " 4   default              45211 non-null  int64\n",
      " 5   balance              45211 non-null  int64\n",
      " 6   housing              45211 non-null  int64\n",
      " 7   loan                 45211 non-null  int64\n",
      " 8   day                  45211 non-null  int64\n",
      " 9   campaign             45211 non-null  int64\n",
      " 10  previous             45211 non-null  int64\n",
      " 11  y                    45211 non-null  int64\n",
      " 12  job_blue-collar      45211 non-null  int64\n",
      " 13  job_entrepreneur     45211 non-null  int64\n",
      " 14  job_housemaid        45211 non-null  int64\n",
      " 15  job_management       45211 non-null  int64\n",
      " 16  job_retired          45211 non-null  int64\n",
      " 17  job_self-employed    45211 non-null  int64\n",
      " 18  job_services         45211 non-null  int64\n",
      " 19  job_student          45211 non-null  int64\n",
      " 20  job_technician       45211 non-null  int64\n",
      " 21  job_unemployed       45211 non-null  int64\n",
      " 22  job_unknown          45211 non-null  int64\n",
      " 23  marital_married      45211 non-null  int64\n",
      " 24  marital_single       45211 non-null  int64\n",
      " 25  education_secondary  45211 non-null  int64\n",
      " 26  education_tertiary   45211 non-null  int64\n",
      " 27  education_unknown    45211 non-null  int64\n",
      " 28  contact_telephone    45211 non-null  int64\n",
      " 29  contact_unknown      45211 non-null  int64\n",
      " 30  month_aug            45211 non-null  int64\n",
      " 31  month_dec            45211 non-null  int64\n",
      " 32  month_feb            45211 non-null  int64\n",
      " 33  month_jan            45211 non-null  int64\n",
      " 34  month_jul            45211 non-null  int64\n",
      " 35  month_jun            45211 non-null  int64\n",
      " 36  month_mar            45211 non-null  int64\n",
      " 37  month_may            45211 non-null  int64\n",
      " 38  month_nov            45211 non-null  int64\n",
      " 39  month_oct            45211 non-null  int64\n",
      " 40  month_sep            45211 non-null  int64\n",
      " 41  poutcome_other       45211 non-null  int64\n",
      " 42  poutcome_success     45211 non-null  int64\n",
      " 43  poutcome_unknown     45211 non-null  int64\n",
      "dtypes: int64(44)\n",
      "memory usage: 15.2 MB\n"
     ]
    }
   ],
   "source": [
    "df.info()"
   ]
  },
  {
   "cell_type": "code",
   "execution_count": 5,
   "id": "0d9fe494-fb40-45cc-9f40-a1b9a410af05",
   "metadata": {},
   "outputs": [
    {
     "data": {
      "text/plain": [
       "Index(['age group', 'eligible', 'salary', 'targeted', 'default', 'balance',\n",
       "       'housing', 'loan', 'day', 'campaign', 'previous', 'y',\n",
       "       'job_blue-collar', 'job_entrepreneur', 'job_housemaid',\n",
       "       'job_management', 'job_retired', 'job_self-employed', 'job_services',\n",
       "       'job_student', 'job_technician', 'job_unemployed', 'job_unknown',\n",
       "       'marital_married', 'marital_single', 'education_secondary',\n",
       "       'education_tertiary', 'education_unknown', 'contact_telephone',\n",
       "       'contact_unknown', 'month_aug', 'month_dec', 'month_feb', 'month_jan',\n",
       "       'month_jul', 'month_jun', 'month_mar', 'month_may', 'month_nov',\n",
       "       'month_oct', 'month_sep', 'poutcome_other', 'poutcome_success',\n",
       "       'poutcome_unknown'],\n",
       "      dtype='object')"
      ]
     },
     "execution_count": 5,
     "metadata": {},
     "output_type": "execute_result"
    }
   ],
   "source": [
    "df.columns"
   ]
  },
  {
   "cell_type": "code",
   "execution_count": 6,
   "id": "f6293262-32bd-49e2-8bea-9a18aa149ff0",
   "metadata": {},
   "outputs": [],
   "source": [
    "important_features = df[['age group', 'salary', 'balance', 'housing', 'day','campaign']]"
   ]
  },
  {
   "cell_type": "markdown",
   "id": "22124760-f45d-4e7e-8ad0-9dd0fcb600b7",
   "metadata": {},
   "source": [
    "## Load Model"
   ]
  },
  {
   "cell_type": "code",
   "execution_count": 7,
   "id": "5a1b90dd",
   "metadata": {},
   "outputs": [
    {
     "data": {
      "text/plain": [
       "Pipeline(steps=[('standardscaler', StandardScaler()),\n",
       "                ('randomforestclassifier',\n",
       "                 RandomForestClassifier(max_features='sqrt',\n",
       "                                        n_estimators=297))])"
      ]
     },
     "execution_count": 7,
     "metadata": {},
     "output_type": "execute_result"
    }
   ],
   "source": [
    "# Load the Model back from file\n",
    "with open(\"Pickle_RF_Model.pkl\", 'rb') as file:  \n",
    "     Pickled_LR_Model = pickle.load(file)\n",
    "\n",
    "Pickled_LR_Model"
   ]
  },
  {
   "cell_type": "code",
   "execution_count": 8,
   "id": "28ed041a-0850-483b-bfd8-94ad98c4302d",
   "metadata": {},
   "outputs": [
    {
     "data": {
      "text/plain": [
       "sklearn.pipeline.Pipeline"
      ]
     },
     "execution_count": 8,
     "metadata": {},
     "output_type": "execute_result"
    }
   ],
   "source": [
    "type(Pickled_LR_Model)"
   ]
  },
  {
   "cell_type": "markdown",
   "id": "b94c304d-7833-4758-8d9b-c61135b19c76",
   "metadata": {},
   "source": [
    "### Load data"
   ]
  },
  {
   "cell_type": "code",
   "execution_count": 9,
   "id": "e3b0935e-9311-4e69-8b67-3ce4821f6184",
   "metadata": {},
   "outputs": [],
   "source": [
    "X = pd.read_csv('X_test.csv')"
   ]
  },
  {
   "cell_type": "code",
   "execution_count": 10,
   "id": "dc1411bd-1590-443b-998d-e9c7bc539f60",
   "metadata": {},
   "outputs": [],
   "source": [
    "y = pd.read_csv('y_test.csv')\n"
   ]
  },
  {
   "cell_type": "code",
   "execution_count": 11,
   "id": "40965626-0a41-40a0-868f-2237e3e33bf7",
   "metadata": {},
   "outputs": [],
   "source": [
    "y_true = pd.read_csv('y_train.csv')"
   ]
  },
  {
   "cell_type": "markdown",
   "id": "d771fcc8-05dc-466b-bf72-0d7c18b5d029",
   "metadata": {},
   "source": [
    "### Test Data"
   ]
  },
  {
   "cell_type": "code",
   "execution_count": 12,
   "id": "50f80ebf-adee-4061-896c-5f401b4abf62",
   "metadata": {},
   "outputs": [
    {
     "data": {
      "text/plain": [
       "Pipeline(steps=[('standardscaler', StandardScaler()),\n",
       "                ('randomforestclassifier',\n",
       "                 RandomForestClassifier(max_features='sqrt',\n",
       "                                        n_estimators=297))])"
      ]
     },
     "execution_count": 12,
     "metadata": {},
     "output_type": "execute_result"
    }
   ],
   "source": [
    "Pickled_LR_Model.fit(X,np.ravel(y))"
   ]
  },
  {
   "cell_type": "code",
   "execution_count": 13,
   "id": "00aaa944-d82f-4990-81b2-6ffc2cdc10ff",
   "metadata": {},
   "outputs": [],
   "source": [
    "cv_results = cross_validate(Pickled_LR_Model, X, y, scoring='accuracy', cv=5, n_jobs=-1)\n",
    "cv_results = pd.DataFrame(cv_results)"
   ]
  },
  {
   "cell_type": "code",
   "execution_count": 14,
   "id": "872efa23-7538-4da9-bcc0-b780544de014",
   "metadata": {},
   "outputs": [
    {
     "data": {
      "text/plain": [
       "0.8895609416912127"
      ]
     },
     "execution_count": 14,
     "metadata": {},
     "output_type": "execute_result"
    }
   ],
   "source": [
    "cv_results['test_score'].mean()"
   ]
  },
  {
   "cell_type": "code",
   "execution_count": 15,
   "id": "7d77db05-92ee-4b31-8a07-735293760cdb",
   "metadata": {},
   "outputs": [
    {
     "name": "stdout",
     "output_type": "stream",
     "text": [
      "Test score: 100.00 %\n"
     ]
    }
   ],
   "source": [
    "# Calculate the Score \n",
    "score = Pickled_LR_Model.score(X, y)  \n",
    "# Print the Score\n",
    "print(\"Test score: {0:.2f} %\".format(100 * score))  \n",
    "\n"
   ]
  },
  {
   "cell_type": "markdown",
   "id": "19265bbd-153b-4f7e-b83f-0e1efe9c546a",
   "metadata": {},
   "source": [
    "## Important Features"
   ]
  },
  {
   "cell_type": "markdown",
   "id": "58fbc548-15ba-4313-8d90-73c48cff5ab7",
   "metadata": {},
   "source": [
    "The most important features we found in the previous notebook are:\n",
    "1. Balance\n",
    "2. Day (of the call)\n",
    "3. Age group\n",
    "4. Campaign\n",
    "5. Salary\n",
    "6. Previous\n",
    "7. Housing"
   ]
  },
  {
   "cell_type": "code",
   "execution_count": 16,
   "id": "0e04ab68-4610-421a-ac26-fb4a4d9214d9",
   "metadata": {},
   "outputs": [
    {
     "data": {
      "text/plain": [
       "5289"
      ]
     },
     "execution_count": 16,
     "metadata": {},
     "output_type": "execute_result"
    }
   ],
   "source": [
    "y = df['y']\n",
    "y_yes = y[df['y'] == 1]\n",
    "y_yes.count()\n"
   ]
  },
  {
   "cell_type": "code",
   "execution_count": 17,
   "id": "35f09ab1-dfeb-4e6e-be85-840f3f531bcd",
   "metadata": {},
   "outputs": [
    {
     "name": "stdout",
     "output_type": "stream",
     "text": [
      "There is:  11.7 % of positive answers overall.\n"
     ]
    }
   ],
   "source": [
    "print(\"There is: \", round(len(y_yes) / len(y) * 100, 2), \"% of positive answers overall.\")\n"
   ]
  },
  {
   "cell_type": "code",
   "execution_count": 18,
   "id": "e69d0e16-cf67-4011-a800-4230ce859de4",
   "metadata": {
    "tags": []
   },
   "outputs": [
    {
     "data": {
      "image/png": "[encoded data removed]",
      "text/plain": [
       "<Figure size 2880x7200 with 6 Axes>"
      ]
     },
     "metadata": {
      "needs_background": "light"
     },
     "output_type": "display_data"
    },
    {
     "name": "stderr",
     "output_type": "stream",
     "text": [
      "/Users/majapedigo/opt/anaconda3/lib/python3.8/site-packages/sklearn/pipeline.py:394: DataConversionWarning: A column-vector y was passed when a 1d array was expected. Please change the shape of y to (n_samples,), for example using ravel().\n",
      "  self._final_estimator.fit(Xt, y, **fit_params_last_step)\n",
      "/Users/majapedigo/opt/anaconda3/lib/python3.8/site-packages/sklearn/pipeline.py:394: DataConversionWarning: A column-vector y was passed when a 1d array was expected. Please change the shape of y to (n_samples,), for example using ravel().\n",
      "  self._final_estimator.fit(Xt, y, **fit_params_last_step)\n",
      "/Users/majapedigo/opt/anaconda3/lib/python3.8/site-packages/sklearn/pipeline.py:394: DataConversionWarning: A column-vector y was passed when a 1d array was expected. Please change the shape of y to (n_samples,), for example using ravel().\n",
      "  self._final_estimator.fit(Xt, y, **fit_params_last_step)\n",
      "/Users/majapedigo/opt/anaconda3/lib/python3.8/site-packages/sklearn/pipeline.py:394: DataConversionWarning: A column-vector y was passed when a 1d array was expected. Please change the shape of y to (n_samples,), for example using ravel().\n",
      "  self._final_estimator.fit(Xt, y, **fit_params_last_step)\n",
      "/Users/majapedigo/opt/anaconda3/lib/python3.8/site-packages/sklearn/pipeline.py:394: DataConversionWarning: A column-vector y was passed when a 1d array was expected. Please change the shape of y to (n_samples,), for example using ravel().\n",
      "  self._final_estimator.fit(Xt, y, **fit_params_last_step)\n"
     ]
    }
   ],
   "source": [
    "#barplot to show target distribution with respect important features\n",
    "plt.figure(figsize=(40,100))\n",
    "plotnumber =1\n",
    "for feature in important_features:\n",
    "    ax = plt.subplot(12,2,plotnumber)\n",
    "    sns.barplot(x=df[feature], y=\"y\" , data=df, palette='coolwarm', color='slateblue')\n",
    "    plt.xlabel(feature)\n",
    "    plotnumber+=1\n",
    "plt.show()\n"
   ]
  },
  {
   "cell_type": "code",
   "execution_count": null,
   "id": "391bf8dd-4fb1-4734-9562-a1d6d17f81d2",
   "metadata": {},
   "outputs": [],
   "source": []
  },
  {
   "cell_type": "markdown",
   "id": "6352746c-3ca3-4c3d-b875-8a7d9d5b05fa",
   "metadata": {},
   "source": [
    "From the above comparison of distributions of our target and most relevant features, we can conclude that:\n",
    "- older clients will subscribe more likely\n",
    "- income of 40-50k is more likely to lead to subscription\n",
    "- people who don't already have a mortgage would rather subscribe\n",
    "- 1st and 10th day in a month of contact has the greatest positive impact\n",
    "- contacting more than just a few times leads to negative impact to subscription\n",
    "- higher balance means more chance to subscribe"
   ]
  },
  {
   "cell_type": "code",
   "execution_count": null,
   "id": "8d5a97be-abd0-4ab8-9597-d633f557ade5",
   "metadata": {},
   "outputs": [],
   "source": []
  },
  {
   "cell_type": "code",
   "execution_count": null,
   "id": "b396911f-a2d9-4fff-8f15-c17c0642ce84",
   "metadata": {},
   "outputs": [],
   "source": []
  },
  {
   "cell_type": "code",
   "execution_count": null,
   "id": "a95b8daf-837a-46b2-8fc4-4529be55bb30",
   "metadata": {},
   "outputs": [],
   "source": []
  }
 ],
 "metadata": {
  "kernelspec": {
   "display_name": "Python 3 (ipykernel)",
   "language": "python",
   "name": "python3"
  },
  "language_info": {
   "codemirror_mode": {
    "name": "ipython",
    "version": 3
   },
   "file_extension": ".py",
   "mimetype": "text/x-python",
   "name": "python",
   "nbconvert_exporter": "python",
   "pygments_lexer": "ipython3",
   "version": "3.8.8"
  }
 },
 "nbformat": 4,
 "nbformat_minor": 5
}
